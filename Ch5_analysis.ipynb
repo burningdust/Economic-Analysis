{
 "cells": [
  {
   "cell_type": "markdown",
   "id": "e106badb-e4df-4882-a8d9-174844342653",
   "metadata": {},
   "source": [
    "# Ch5 분석과제: 최근 가계금융복지조사 분석하기"
   ]
  },
  {
   "cell_type": "markdown",
   "id": "8d58af25-35b8-45c2-94fb-cd457e6d9555",
   "metadata": {},
   "source": [
    "## 데이터 불러오기 및 필요 데이터 추출"
   ]
  },
  {
   "cell_type": "code",
   "execution_count": 3,
   "id": "d192c18c-86f3-4dc3-ae7d-250f5af33d31",
   "metadata": {},
   "outputs": [],
   "source": [
    "# 필요 패키지 로드\n",
    "\n",
    "import numpy as np\n",
    "import pandas as pd\n",
    "import matplotlib.pyplot as plt"
   ]
  },
  {
   "cell_type": "code",
   "execution_count": 5,
   "id": "499bc03b-4a87-488b-9a36-98a9272ccb36",
   "metadata": {},
   "outputs": [
    {
     "data": {
      "text/plain": [
       "Index(['조사연도', 'MD제공용_가구고유번호', '가중값', '수도권여부', '가구주_성별코드', '가구원수', '노인가구여부',\n",
       "       '조손가구여부', '한부모가구여부', '다문화가구여부(2012년~)',\n",
       "       ...\n",
       "       '원리금상환_가계지출감소항목코드', '부채상환가능시기코드', '가구주_은퇴여부', '가구주_미은퇴_은퇴연령',\n",
       "       '가구주_미은퇴_최소생활비', '가구주_미은퇴_적정생활비', '가구주_미은퇴_노후준비상황코드', '가구주_은퇴_은퇴연령',\n",
       "       '가구주_은퇴_적정생활비충당여부', '가구주_은퇴_생활비재원마련코드(2014년~)'],\n",
       "      dtype='object', length=160)"
      ]
     },
     "execution_count": 5,
     "metadata": {},
     "output_type": "execute_result"
    }
   ],
   "source": [
    "# 데이터 파일 불러오기\n",
    "\n",
    "data = \"C:/Users/narin/Desktop/data/2023_household_finance_data.csv\"\n",
    "df = pd.read_csv(data, encoding = 'CP949')\n",
    "df.columns"
   ]
  },
  {
   "cell_type": "code",
   "execution_count": 15,
   "id": "e1a2c316-5a61-4811-9e8c-0c5ef4baf841",
   "metadata": {},
   "outputs": [
    {
     "data": {
      "text/html": [
       "<div>\n",
       "<style scoped>\n",
       "    .dataframe tbody tr th:only-of-type {\n",
       "        vertical-align: middle;\n",
       "    }\n",
       "\n",
       "    .dataframe tbody tr th {\n",
       "        vertical-align: top;\n",
       "    }\n",
       "\n",
       "    .dataframe thead th {\n",
       "        text-align: right;\n",
       "    }\n",
       "</style>\n",
       "<table border=\"1\" class=\"dataframe\">\n",
       "  <thead>\n",
       "    <tr style=\"text-align: right;\">\n",
       "      <th></th>\n",
       "      <th>조사연도</th>\n",
       "      <th>경상소득(보완)</th>\n",
       "    </tr>\n",
       "  </thead>\n",
       "  <tbody>\n",
       "    <tr>\n",
       "      <th>0</th>\n",
       "      <td>2023</td>\n",
       "      <td>1655</td>\n",
       "    </tr>\n",
       "    <tr>\n",
       "      <th>1</th>\n",
       "      <td>2023</td>\n",
       "      <td>2995</td>\n",
       "    </tr>\n",
       "    <tr>\n",
       "      <th>2</th>\n",
       "      <td>2023</td>\n",
       "      <td>3001</td>\n",
       "    </tr>\n",
       "    <tr>\n",
       "      <th>3</th>\n",
       "      <td>2023</td>\n",
       "      <td>1871</td>\n",
       "    </tr>\n",
       "    <tr>\n",
       "      <th>4</th>\n",
       "      <td>2023</td>\n",
       "      <td>3603</td>\n",
       "    </tr>\n",
       "  </tbody>\n",
       "</table>\n",
       "</div>"
      ],
      "text/plain": [
       "   조사연도  경상소득(보완)\n",
       "0  2023      1655\n",
       "1  2023      2995\n",
       "2  2023      3001\n",
       "3  2023      1871\n",
       "4  2023      3603"
      ]
     },
     "execution_count": 15,
     "metadata": {},
     "output_type": "execute_result"
    }
   ],
   "source": [
    "# 필요 데이터 추출\n",
    "\n",
    "df_income = df[[\"조사연도\", \"경상소득(보완)\"]]\n",
    "df_income.head(5)"
   ]
  },
  {
   "cell_type": "code",
   "execution_count": 17,
   "id": "384f9869-0e37-4063-8b3e-1449e56f6efa",
   "metadata": {},
   "outputs": [
    {
     "name": "stderr",
     "output_type": "stream",
     "text": [
      "C:\\Users\\narin\\AppData\\Local\\Temp\\ipykernel_2448\\3812693135.py:1: SettingWithCopyWarning: \n",
      "A value is trying to be set on a copy of a slice from a DataFrame\n",
      "\n",
      "See the caveats in the documentation: https://pandas.pydata.org/pandas-docs/stable/user_guide/indexing.html#returning-a-view-versus-a-copy\n",
      "  df_income.rename(columns = {\"조사연도\":\"year\", \"경상소득(보완)\":\"income\"}, inplace = True) # 컬럼 이름명 변경\n"
     ]
    },
    {
     "data": {
      "text/html": [
       "<div>\n",
       "<style scoped>\n",
       "    .dataframe tbody tr th:only-of-type {\n",
       "        vertical-align: middle;\n",
       "    }\n",
       "\n",
       "    .dataframe tbody tr th {\n",
       "        vertical-align: top;\n",
       "    }\n",
       "\n",
       "    .dataframe thead th {\n",
       "        text-align: right;\n",
       "    }\n",
       "</style>\n",
       "<table border=\"1\" class=\"dataframe\">\n",
       "  <thead>\n",
       "    <tr style=\"text-align: right;\">\n",
       "      <th></th>\n",
       "      <th>year</th>\n",
       "      <th>income</th>\n",
       "    </tr>\n",
       "  </thead>\n",
       "  <tbody>\n",
       "    <tr>\n",
       "      <th>0</th>\n",
       "      <td>2023</td>\n",
       "      <td>1655</td>\n",
       "    </tr>\n",
       "    <tr>\n",
       "      <th>1</th>\n",
       "      <td>2023</td>\n",
       "      <td>2995</td>\n",
       "    </tr>\n",
       "    <tr>\n",
       "      <th>2</th>\n",
       "      <td>2023</td>\n",
       "      <td>3001</td>\n",
       "    </tr>\n",
       "    <tr>\n",
       "      <th>3</th>\n",
       "      <td>2023</td>\n",
       "      <td>1871</td>\n",
       "    </tr>\n",
       "    <tr>\n",
       "      <th>4</th>\n",
       "      <td>2023</td>\n",
       "      <td>3603</td>\n",
       "    </tr>\n",
       "  </tbody>\n",
       "</table>\n",
       "</div>"
      ],
      "text/plain": [
       "   year  income\n",
       "0  2023    1655\n",
       "1  2023    2995\n",
       "2  2023    3001\n",
       "3  2023    1871\n",
       "4  2023    3603"
      ]
     },
     "execution_count": 17,
     "metadata": {},
     "output_type": "execute_result"
    }
   ],
   "source": [
    "df_income.rename(columns = {\"조사연도\":\"year\", \"경상소득(보완)\":\"income\"}, inplace = True) # 컬럼 이름명 변경\n",
    "df_income.dropna() # 결측치 제거\n",
    "df_income.head(5)"
   ]
  },
  {
   "cell_type": "markdown",
   "id": "7424d08c-f381-473d-b04f-6d7e6088ee3e",
   "metadata": {},
   "source": [
    "## 2023년 우리나라 가구의 평균 소득과 95% 신뢰구간"
   ]
  },
  {
   "cell_type": "code",
   "execution_count": 70,
   "id": "cc299120-675d-4b06-98f4-4ee000c4f143",
   "metadata": {},
   "outputs": [
    {
     "data": {
      "text/plain": [
       "6194.59"
      ]
     },
     "execution_count": 70,
     "metadata": {},
     "output_type": "execute_result"
    }
   ],
   "source": [
    "# 평균 소득\n",
    "mean_income = np.round(np.mean(df_income['income']), 2)\n",
    "mean_income"
   ]
  },
  {
   "cell_type": "code",
   "execution_count": 72,
   "id": "4890bb14-e096-4e80-a808-cb00f07dfe90",
   "metadata": {},
   "outputs": [
    {
     "data": {
      "text/plain": [
       "6979.72"
      ]
     },
     "execution_count": 72,
     "metadata": {},
     "output_type": "execute_result"
    }
   ],
   "source": [
    "# 표준편차\n",
    "std_income = np.round(np.std(df_income['income']), 2)\n",
    "std_income"
   ]
  },
  {
   "cell_type": "code",
   "execution_count": 74,
   "id": "2eb71b3c-8197-48f3-b2b0-b75ac7c1c9e5",
   "metadata": {},
   "outputs": [
    {
     "data": {
      "text/plain": [
       "51.89"
      ]
     },
     "execution_count": 74,
     "metadata": {},
     "output_type": "execute_result"
    }
   ],
   "source": [
    "# 표준오차\n",
    "se_income = np.round(std_income / np.sqrt(len(df_income['income'])), 2)\n",
    "se_income"
   ]
  },
  {
   "cell_type": "code",
   "execution_count": 76,
   "id": "a2d85f4b-4af0-4dc2-be0c-8d78812cee31",
   "metadata": {},
   "outputs": [
    {
     "data": {
      "text/plain": [
       "(6092.89, 6296.29)"
      ]
     },
     "execution_count": 76,
     "metadata": {},
     "output_type": "execute_result"
    }
   ],
   "source": [
    "# 95% 신뢰도 신뢰구간\n",
    "lower = np.round(mean_income - 1.96 * se_income, 2) # 신뢰하한\n",
    "upper = np.round(mean_income + 1.96 * se_income, 2) # 신뢰상한\n",
    "CI = (lower, upper)\n",
    "CI"
   ]
  },
  {
   "cell_type": "markdown",
   "id": "427fa5e7-4f07-4f11-bc1d-9e17d3964534",
   "metadata": {},
   "source": [
    "2023년 우리나라 가구의 평균 소득은 약 6195만원이고, 95% 신뢰구간은 약 6093만원에서 6296만원까지입니다."
   ]
  },
  {
   "cell_type": "markdown",
   "id": "1f36b6a3-34c8-4674-b1aa-8eb4525c308b",
   "metadata": {},
   "source": [
    "## 300가구 무작위 추출 후 평균 소득과 95% 신뢰구간"
   ]
  },
  {
   "cell_type": "code",
   "execution_count": 84,
   "id": "00353a22-819d-4df7-9e4a-2507747d1968",
   "metadata": {},
   "outputs": [],
   "source": [
    "# 300가구 무작위 추출\n",
    "sample_income = np.random.choice(df_income['income'], size = 300, replace = True)"
   ]
  },
  {
   "cell_type": "code",
   "execution_count": 86,
   "id": "4a32d896-2c5a-426a-a1fa-c1e9ab3d530f",
   "metadata": {},
   "outputs": [
    {
     "data": {
      "text/plain": [
       "5935.01"
      ]
     },
     "execution_count": 86,
     "metadata": {},
     "output_type": "execute_result"
    }
   ],
   "source": [
    "# 평균 소득\n",
    "mean_sample = np.round(np.mean(sample_income), 2)\n",
    "mean_sample"
   ]
  },
  {
   "cell_type": "code",
   "execution_count": 88,
   "id": "c5168394-d3dd-456c-8e60-9d9babacb03e",
   "metadata": {},
   "outputs": [
    {
     "data": {
      "text/plain": [
       "267.87"
      ]
     },
     "execution_count": 88,
     "metadata": {},
     "output_type": "execute_result"
    }
   ],
   "source": [
    "# 표준오차\n",
    "se_sample = np.round(np.std(sample_income) / np.sqrt(300), 2)\n",
    "se_sample"
   ]
  },
  {
   "cell_type": "code",
   "execution_count": 90,
   "id": "d3d17cc8-8dca-4370-a734-57d023219c28",
   "metadata": {},
   "outputs": [
    {
     "data": {
      "text/plain": [
       "(5409.98, 6460.04)"
      ]
     },
     "execution_count": 90,
     "metadata": {},
     "output_type": "execute_result"
    }
   ],
   "source": [
    "# 95% 신뢰도 신뢰구간\n",
    "lower_sample = np.round(mean_sample - 1.96 * se_sample, 2) # 신뢰하한\n",
    "upper_sample = np.round(mean_sample + 1.96 * se_sample, 2) # 신뢰상한\n",
    "CI_sample = (lower_sample, upper_sample)\n",
    "CI_sample"
   ]
  },
  {
   "cell_type": "markdown",
   "id": "fc67020c-7c91-4727-abbd-e6d4284ce837",
   "metadata": {},
   "source": [
    "무작위 추출한 300가구의 평균 소득은 약 5935만원이고, 95% 신뢰구간은 약 5410만원에서 6460만원입니다."
   ]
  },
  {
   "cell_type": "markdown",
   "id": "cefc5543-5a75-4d0f-8d9f-51c4a475d709",
   "metadata": {},
   "source": [
    "## 300가구 무작위추출을 1000회 반복하여 1000개의 신뢰구간을 구하고, 모평균이 신뢰구간을 벗어날 확률 구하기"
   ]
  },
  {
   "cell_type": "code",
   "execution_count": 98,
   "id": "500b16cf-d375-4bdd-bf99-ce25f7cf7412",
   "metadata": {},
   "outputs": [
    {
     "data": {
      "text/html": [
       "<div>\n",
       "<style scoped>\n",
       "    .dataframe tbody tr th:only-of-type {\n",
       "        vertical-align: middle;\n",
       "    }\n",
       "\n",
       "    .dataframe tbody tr th {\n",
       "        vertical-align: top;\n",
       "    }\n",
       "\n",
       "    .dataframe thead th {\n",
       "        text-align: right;\n",
       "    }\n",
       "</style>\n",
       "<table border=\"1\" class=\"dataframe\">\n",
       "  <thead>\n",
       "    <tr style=\"text-align: right;\">\n",
       "      <th></th>\n",
       "      <th>lower</th>\n",
       "      <th>upper</th>\n",
       "      <th>mean</th>\n",
       "    </tr>\n",
       "  </thead>\n",
       "  <tbody>\n",
       "    <tr>\n",
       "      <th>0</th>\n",
       "      <td>5383.498489</td>\n",
       "      <td>6836.314844</td>\n",
       "      <td>6194.593125</td>\n",
       "    </tr>\n",
       "    <tr>\n",
       "      <th>1</th>\n",
       "      <td>5462.869816</td>\n",
       "      <td>6653.683518</td>\n",
       "      <td>6194.593125</td>\n",
       "    </tr>\n",
       "    <tr>\n",
       "      <th>2</th>\n",
       "      <td>5685.276861</td>\n",
       "      <td>7037.276472</td>\n",
       "      <td>6194.593125</td>\n",
       "    </tr>\n",
       "    <tr>\n",
       "      <th>3</th>\n",
       "      <td>5381.351542</td>\n",
       "      <td>6862.108458</td>\n",
       "      <td>6194.593125</td>\n",
       "    </tr>\n",
       "    <tr>\n",
       "      <th>4</th>\n",
       "      <td>5628.320085</td>\n",
       "      <td>6828.379915</td>\n",
       "      <td>6194.593125</td>\n",
       "    </tr>\n",
       "  </tbody>\n",
       "</table>\n",
       "</div>"
      ],
      "text/plain": [
       "         lower        upper         mean\n",
       "0  5383.498489  6836.314844  6194.593125\n",
       "1  5462.869816  6653.683518  6194.593125\n",
       "2  5685.276861  7037.276472  6194.593125\n",
       "3  5381.351542  6862.108458  6194.593125\n",
       "4  5628.320085  6828.379915  6194.593125"
      ]
     },
     "execution_count": 98,
     "metadata": {},
     "output_type": "execute_result"
    }
   ],
   "source": [
    "# 300가구 무작위 추출과 신뢰구간 계산 1000회 반복\n",
    "\n",
    "n = 1000\n",
    "interval = np.zeros((n, 2))\n",
    "\n",
    "for i in range(n):\n",
    "    sample = np.random.choice(df_income['income'], size = 300, replace = True)\n",
    "    mn = np.mean(sample)\n",
    "    es = np.std(sample) / np.sqrt(300)\n",
    "    lower = mn - 1.96 * es\n",
    "    upper = mn + 1.96 * es\n",
    "    interval[i][0] = lower\n",
    "    interval[i][1] = upper\n",
    "\n",
    "test = pd.DataFrame(data = interval, columns = [\"lower\", \"upper\"])\n",
    "test[\"mean\"] = np.mean(df_income['income'])\n",
    "test.head()"
   ]
  },
  {
   "cell_type": "code",
   "execution_count": 108,
   "id": "e22af295-a931-40f1-98cc-a0b087455b23",
   "metadata": {},
   "outputs": [
    {
     "data": {
      "text/html": [
       "<div>\n",
       "<style scoped>\n",
       "    .dataframe tbody tr th:only-of-type {\n",
       "        vertical-align: middle;\n",
       "    }\n",
       "\n",
       "    .dataframe tbody tr th {\n",
       "        vertical-align: top;\n",
       "    }\n",
       "\n",
       "    .dataframe thead th {\n",
       "        text-align: right;\n",
       "    }\n",
       "</style>\n",
       "<table border=\"1\" class=\"dataframe\">\n",
       "  <thead>\n",
       "    <tr style=\"text-align: right;\">\n",
       "      <th></th>\n",
       "      <th>lower</th>\n",
       "      <th>upper</th>\n",
       "      <th>mean</th>\n",
       "      <th>test</th>\n",
       "      <th>test_l</th>\n",
       "      <th>test_u</th>\n",
       "    </tr>\n",
       "  </thead>\n",
       "  <tbody>\n",
       "    <tr>\n",
       "      <th>0</th>\n",
       "      <td>5383.498489</td>\n",
       "      <td>6836.314844</td>\n",
       "      <td>6194.593125</td>\n",
       "      <td>0</td>\n",
       "      <td>0</td>\n",
       "      <td>0</td>\n",
       "    </tr>\n",
       "    <tr>\n",
       "      <th>1</th>\n",
       "      <td>5462.869816</td>\n",
       "      <td>6653.683518</td>\n",
       "      <td>6194.593125</td>\n",
       "      <td>0</td>\n",
       "      <td>0</td>\n",
       "      <td>0</td>\n",
       "    </tr>\n",
       "    <tr>\n",
       "      <th>2</th>\n",
       "      <td>5685.276861</td>\n",
       "      <td>7037.276472</td>\n",
       "      <td>6194.593125</td>\n",
       "      <td>0</td>\n",
       "      <td>0</td>\n",
       "      <td>0</td>\n",
       "    </tr>\n",
       "    <tr>\n",
       "      <th>3</th>\n",
       "      <td>5381.351542</td>\n",
       "      <td>6862.108458</td>\n",
       "      <td>6194.593125</td>\n",
       "      <td>0</td>\n",
       "      <td>0</td>\n",
       "      <td>0</td>\n",
       "    </tr>\n",
       "    <tr>\n",
       "      <th>4</th>\n",
       "      <td>5628.320085</td>\n",
       "      <td>6828.379915</td>\n",
       "      <td>6194.593125</td>\n",
       "      <td>0</td>\n",
       "      <td>0</td>\n",
       "      <td>0</td>\n",
       "    </tr>\n",
       "  </tbody>\n",
       "</table>\n",
       "</div>"
      ],
      "text/plain": [
       "         lower        upper         mean  test  test_l  test_u\n",
       "0  5383.498489  6836.314844  6194.593125     0       0       0\n",
       "1  5462.869816  6653.683518  6194.593125     0       0       0\n",
       "2  5685.276861  7037.276472  6194.593125     0       0       0\n",
       "3  5381.351542  6862.108458  6194.593125     0       0       0\n",
       "4  5628.320085  6828.379915  6194.593125     0       0       0"
      ]
     },
     "execution_count": 108,
     "metadata": {},
     "output_type": "execute_result"
    }
   ],
   "source": [
    "test['test_l'] = np.where((test[\"lower\"] > test[\"mean\"]), 1, 0)\n",
    "test['test_u'] = np.where((test[\"upper\"] < test[\"mean\"]), 1, 0)\n",
    "test['test'] = test[\"test_l\"] + test[\"test_u\"]\n",
    "test.head()"
   ]
  },
  {
   "cell_type": "code",
   "execution_count": 116,
   "id": "66c78205-b5b9-44b4-b4b3-bf63f92771b1",
   "metadata": {},
   "outputs": [
    {
     "data": {
      "text/plain": [
       "64"
      ]
     },
     "execution_count": 116,
     "metadata": {},
     "output_type": "execute_result"
    }
   ],
   "source": [
    "# 모평균이 신뢰구간을 벗어난 횟수\n",
    "num = test[\"test\"].sum()\n",
    "num"
   ]
  },
  {
   "cell_type": "code",
   "execution_count": 118,
   "id": "d4c96bf9-6539-4623-a277-f49f7b755d1e",
   "metadata": {},
   "outputs": [
    {
     "data": {
      "text/plain": [
       "0.064"
      ]
     },
     "execution_count": 118,
     "metadata": {},
     "output_type": "execute_result"
    }
   ],
   "source": [
    "# 모평균이 신뢰구간을 벗어날 확률\n",
    "num / 1000"
   ]
  }
 ],
 "metadata": {
  "kernelspec": {
   "display_name": "Python 3 (ipykernel)",
   "language": "python",
   "name": "python3"
  },
  "language_info": {
   "codemirror_mode": {
    "name": "ipython",
    "version": 3
   },
   "file_extension": ".py",
   "mimetype": "text/x-python",
   "name": "python",
   "nbconvert_exporter": "python",
   "pygments_lexer": "ipython3",
   "version": "3.12.4"
  }
 },
 "nbformat": 4,
 "nbformat_minor": 5
}
