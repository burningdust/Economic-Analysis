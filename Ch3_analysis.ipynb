{
 "cells": [
  {
   "cell_type": "markdown",
   "id": "251a1352-1c28-4007-8bec-9e53cfbb0b57",
   "metadata": {},
   "source": [
    "# Ch3 분석 과제 : 주가 데이터 캔들 그래프 및 이동평균선"
   ]
  },
  {
   "cell_type": "markdown",
   "id": "c05361d0-8bfa-4676-949a-e1af27eb8ea8",
   "metadata": {},
   "source": [
    "## 주가 데이터 불러오기"
   ]
  },
  {
   "cell_type": "code",
   "execution_count": 82,
   "id": "e71571be-8e33-4cc2-a7ac-8b63894d55c1",
   "metadata": {},
   "outputs": [],
   "source": [
    "%matplotlib inline\n",
    "\n",
    "import matplotlib.pyplot as plt\n",
    "import numpy as np\n",
    "import pandas as pd\n",
    "import FinanceDataReader as fdr"
   ]
  },
  {
   "cell_type": "code",
   "execution_count": 93,
   "id": "8288fc29-3434-4fc0-b567-f7d9ff4b279d",
   "metadata": {},
   "outputs": [
    {
     "data": {
      "text/html": [
       "<div>\n",
       "<style scoped>\n",
       "    .dataframe tbody tr th:only-of-type {\n",
       "        vertical-align: middle;\n",
       "    }\n",
       "\n",
       "    .dataframe tbody tr th {\n",
       "        vertical-align: top;\n",
       "    }\n",
       "\n",
       "    .dataframe thead th {\n",
       "        text-align: right;\n",
       "    }\n",
       "</style>\n",
       "<table border=\"1\" class=\"dataframe\">\n",
       "  <thead>\n",
       "    <tr style=\"text-align: right;\">\n",
       "      <th></th>\n",
       "      <th>Open</th>\n",
       "      <th>High</th>\n",
       "      <th>Low</th>\n",
       "      <th>Close</th>\n",
       "      <th>Volume</th>\n",
       "      <th>Change</th>\n",
       "    </tr>\n",
       "    <tr>\n",
       "      <th>Date</th>\n",
       "      <th></th>\n",
       "      <th></th>\n",
       "      <th></th>\n",
       "      <th></th>\n",
       "      <th></th>\n",
       "      <th></th>\n",
       "    </tr>\n",
       "  </thead>\n",
       "  <tbody>\n",
       "    <tr>\n",
       "      <th>2010-01-04</th>\n",
       "      <td>14109</td>\n",
       "      <td>14892</td>\n",
       "      <td>13868</td>\n",
       "      <td>14732</td>\n",
       "      <td>158976</td>\n",
       "      <td>0.044082</td>\n",
       "    </tr>\n",
       "    <tr>\n",
       "      <th>2010-01-05</th>\n",
       "      <td>14652</td>\n",
       "      <td>15113</td>\n",
       "      <td>14491</td>\n",
       "      <td>14853</td>\n",
       "      <td>124156</td>\n",
       "      <td>0.008213</td>\n",
       "    </tr>\n",
       "    <tr>\n",
       "      <th>2010-01-06</th>\n",
       "      <td>14973</td>\n",
       "      <td>15093</td>\n",
       "      <td>14652</td>\n",
       "      <td>14913</td>\n",
       "      <td>72453</td>\n",
       "      <td>0.004040</td>\n",
       "    </tr>\n",
       "    <tr>\n",
       "      <th>2010-01-07</th>\n",
       "      <td>14912</td>\n",
       "      <td>15012</td>\n",
       "      <td>14471</td>\n",
       "      <td>14732</td>\n",
       "      <td>99241</td>\n",
       "      <td>-0.012137</td>\n",
       "    </tr>\n",
       "    <tr>\n",
       "      <th>2010-01-08</th>\n",
       "      <td>14752</td>\n",
       "      <td>14752</td>\n",
       "      <td>14070</td>\n",
       "      <td>14632</td>\n",
       "      <td>114818</td>\n",
       "      <td>-0.006788</td>\n",
       "    </tr>\n",
       "  </tbody>\n",
       "</table>\n",
       "</div>"
      ],
      "text/plain": [
       "             Open   High    Low  Close  Volume    Change\n",
       "Date                                                    \n",
       "2010-01-04  14109  14892  13868  14732  158976  0.044082\n",
       "2010-01-05  14652  15113  14491  14853  124156  0.008213\n",
       "2010-01-06  14973  15093  14652  14913   72453  0.004040\n",
       "2010-01-07  14912  15012  14471  14732   99241 -0.012137\n",
       "2010-01-08  14752  14752  14070  14632  114818 -0.006788"
      ]
     },
     "execution_count": 93,
     "metadata": {},
     "output_type": "execute_result"
    }
   ],
   "source": [
    "# 카카오 주가 데이터\n",
    "\n",
    "df_kakao = fdr.DataReader('035720', '2010-01-01')\n",
    "df_kakao.head()"
   ]
  },
  {
   "cell_type": "code",
   "execution_count": 86,
   "id": "d5d16b27-ddb7-4084-a9bc-24c864cbb42b",
   "metadata": {},
   "outputs": [
    {
     "name": "stdout",
     "output_type": "stream",
     "text": [
      "<class 'pandas.core.frame.DataFrame'>\n",
      "DatetimeIndex: 3610 entries, 2010-01-04 to 2024-08-20\n",
      "Data columns (total 6 columns):\n",
      " #   Column  Non-Null Count  Dtype  \n",
      "---  ------  --------------  -----  \n",
      " 0   Open    3610 non-null   int64  \n",
      " 1   High    3610 non-null   int64  \n",
      " 2   Low     3610 non-null   int64  \n",
      " 3   Close   3610 non-null   int64  \n",
      " 4   Volume  3610 non-null   int64  \n",
      " 5   Change  3610 non-null   float64\n",
      "dtypes: float64(1), int64(5)\n",
      "memory usage: 197.4 KB\n"
     ]
    }
   ],
   "source": [
    "df_kakao.info()"
   ]
  },
  {
   "cell_type": "code",
   "execution_count": 108,
   "id": "777fe51e-b6f6-4c0d-932d-3922e3849fe3",
   "metadata": {},
   "outputs": [
    {
     "data": {
      "text/html": [
       "<div>\n",
       "<style scoped>\n",
       "    .dataframe tbody tr th:only-of-type {\n",
       "        vertical-align: middle;\n",
       "    }\n",
       "\n",
       "    .dataframe tbody tr th {\n",
       "        vertical-align: top;\n",
       "    }\n",
       "\n",
       "    .dataframe thead th {\n",
       "        text-align: right;\n",
       "    }\n",
       "</style>\n",
       "<table border=\"1\" class=\"dataframe\">\n",
       "  <thead>\n",
       "    <tr style=\"text-align: right;\">\n",
       "      <th></th>\n",
       "      <th>Open</th>\n",
       "      <th>High</th>\n",
       "      <th>Low</th>\n",
       "      <th>Close</th>\n",
       "      <th>Volume</th>\n",
       "      <th>Change</th>\n",
       "    </tr>\n",
       "  </thead>\n",
       "  <tbody>\n",
       "    <tr>\n",
       "      <th>count</th>\n",
       "      <td>3610.000000</td>\n",
       "      <td>3610.000000</td>\n",
       "      <td>3610.000000</td>\n",
       "      <td>3610.000000</td>\n",
       "      <td>3.610000e+03</td>\n",
       "      <td>3610.000000</td>\n",
       "    </tr>\n",
       "    <tr>\n",
       "      <th>mean</th>\n",
       "      <td>37727.983934</td>\n",
       "      <td>38320.684488</td>\n",
       "      <td>37144.862050</td>\n",
       "      <td>37802.259003</td>\n",
       "      <td>8.375256e+05</td>\n",
       "      <td>0.000536</td>\n",
       "    </tr>\n",
       "    <tr>\n",
       "      <th>std</th>\n",
       "      <td>30067.013183</td>\n",
       "      <td>30538.176360</td>\n",
       "      <td>29613.045925</td>\n",
       "      <td>30098.982960</td>\n",
       "      <td>1.275162e+06</td>\n",
       "      <td>0.023413</td>\n",
       "    </tr>\n",
       "    <tr>\n",
       "      <th>min</th>\n",
       "      <td>0.000000</td>\n",
       "      <td>0.000000</td>\n",
       "      <td>0.000000</td>\n",
       "      <td>13146.000000</td>\n",
       "      <td>0.000000e+00</td>\n",
       "      <td>-0.103681</td>\n",
       "    </tr>\n",
       "    <tr>\n",
       "      <th>25%</th>\n",
       "      <td>19068.000000</td>\n",
       "      <td>19268.000000</td>\n",
       "      <td>18786.000000</td>\n",
       "      <td>19048.000000</td>\n",
       "      <td>1.551460e+05</td>\n",
       "      <td>-0.012733</td>\n",
       "    </tr>\n",
       "    <tr>\n",
       "      <th>50%</th>\n",
       "      <td>24687.500000</td>\n",
       "      <td>25087.000000</td>\n",
       "      <td>24215.500000</td>\n",
       "      <td>24617.000000</td>\n",
       "      <td>4.166670e+05</td>\n",
       "      <td>0.000000</td>\n",
       "    </tr>\n",
       "    <tr>\n",
       "      <th>75%</th>\n",
       "      <td>48650.000000</td>\n",
       "      <td>49400.000000</td>\n",
       "      <td>48137.500000</td>\n",
       "      <td>48750.000000</td>\n",
       "      <td>1.074297e+06</td>\n",
       "      <td>0.011576</td>\n",
       "    </tr>\n",
       "    <tr>\n",
       "      <th>max</th>\n",
       "      <td>172000.000000</td>\n",
       "      <td>173000.000000</td>\n",
       "      <td>161000.000000</td>\n",
       "      <td>169500.000000</td>\n",
       "      <td>1.889515e+07</td>\n",
       "      <td>0.155512</td>\n",
       "    </tr>\n",
       "  </tbody>\n",
       "</table>\n",
       "</div>"
      ],
      "text/plain": [
       "                Open           High            Low          Close  \\\n",
       "count    3610.000000    3610.000000    3610.000000    3610.000000   \n",
       "mean    37727.983934   38320.684488   37144.862050   37802.259003   \n",
       "std     30067.013183   30538.176360   29613.045925   30098.982960   \n",
       "min         0.000000       0.000000       0.000000   13146.000000   \n",
       "25%     19068.000000   19268.000000   18786.000000   19048.000000   \n",
       "50%     24687.500000   25087.000000   24215.500000   24617.000000   \n",
       "75%     48650.000000   49400.000000   48137.500000   48750.000000   \n",
       "max    172000.000000  173000.000000  161000.000000  169500.000000   \n",
       "\n",
       "             Volume       Change  \n",
       "count  3.610000e+03  3610.000000  \n",
       "mean   8.375256e+05     0.000536  \n",
       "std    1.275162e+06     0.023413  \n",
       "min    0.000000e+00    -0.103681  \n",
       "25%    1.551460e+05    -0.012733  \n",
       "50%    4.166670e+05     0.000000  \n",
       "75%    1.074297e+06     0.011576  \n",
       "max    1.889515e+07     0.155512  "
      ]
     },
     "execution_count": 108,
     "metadata": {},
     "output_type": "execute_result"
    }
   ],
   "source": [
    "df_kakao.describe()"
   ]
  },
  {
   "cell_type": "code",
   "execution_count": 118,
   "id": "3c487ae8-1c68-492d-a9f9-fde1d805dd36",
   "metadata": {},
   "outputs": [
    {
     "data": {
      "text/html": [
       "<div>\n",
       "<style scoped>\n",
       "    .dataframe tbody tr th:only-of-type {\n",
       "        vertical-align: middle;\n",
       "    }\n",
       "\n",
       "    .dataframe tbody tr th {\n",
       "        vertical-align: top;\n",
       "    }\n",
       "\n",
       "    .dataframe thead th {\n",
       "        text-align: right;\n",
       "    }\n",
       "</style>\n",
       "<table border=\"1\" class=\"dataframe\">\n",
       "  <thead>\n",
       "    <tr style=\"text-align: right;\">\n",
       "      <th></th>\n",
       "      <th>Open</th>\n",
       "      <th>High</th>\n",
       "      <th>Low</th>\n",
       "      <th>Close</th>\n",
       "      <th>Volume</th>\n",
       "      <th>Change</th>\n",
       "    </tr>\n",
       "  </thead>\n",
       "  <tbody>\n",
       "    <tr>\n",
       "      <th>count</th>\n",
       "      <td>3408.000000</td>\n",
       "      <td>3408.000000</td>\n",
       "      <td>3408.000000</td>\n",
       "      <td>3408.000000</td>\n",
       "      <td>3.408000e+03</td>\n",
       "      <td>3408.000000</td>\n",
       "    </tr>\n",
       "    <tr>\n",
       "      <th>mean</th>\n",
       "      <td>37820.136150</td>\n",
       "      <td>38423.638204</td>\n",
       "      <td>37230.989730</td>\n",
       "      <td>37797.628521</td>\n",
       "      <td>8.491922e+05</td>\n",
       "      <td>0.000568</td>\n",
       "    </tr>\n",
       "    <tr>\n",
       "      <th>std</th>\n",
       "      <td>30021.560057</td>\n",
       "      <td>30496.977394</td>\n",
       "      <td>29563.912998</td>\n",
       "      <td>30001.010754</td>\n",
       "      <td>1.292200e+06</td>\n",
       "      <td>0.024097</td>\n",
       "    </tr>\n",
       "    <tr>\n",
       "      <th>min</th>\n",
       "      <td>13146.000000</td>\n",
       "      <td>13186.000000</td>\n",
       "      <td>12905.000000</td>\n",
       "      <td>13146.000000</td>\n",
       "      <td>9.641000e+03</td>\n",
       "      <td>-0.103681</td>\n",
       "    </tr>\n",
       "    <tr>\n",
       "      <th>25%</th>\n",
       "      <td>19082.250000</td>\n",
       "      <td>19288.000000</td>\n",
       "      <td>18786.000000</td>\n",
       "      <td>19027.000000</td>\n",
       "      <td>1.587795e+05</td>\n",
       "      <td>-0.013567</td>\n",
       "    </tr>\n",
       "    <tr>\n",
       "      <th>50%</th>\n",
       "      <td>24697.500000</td>\n",
       "      <td>25088.500000</td>\n",
       "      <td>24275.500000</td>\n",
       "      <td>24647.500000</td>\n",
       "      <td>4.276095e+05</td>\n",
       "      <td>-0.001328</td>\n",
       "    </tr>\n",
       "    <tr>\n",
       "      <th>75%</th>\n",
       "      <td>48762.500000</td>\n",
       "      <td>49512.500000</td>\n",
       "      <td>48262.500000</td>\n",
       "      <td>48812.500000</td>\n",
       "      <td>1.096044e+06</td>\n",
       "      <td>0.012646</td>\n",
       "    </tr>\n",
       "    <tr>\n",
       "      <th>max</th>\n",
       "      <td>172000.000000</td>\n",
       "      <td>173000.000000</td>\n",
       "      <td>161000.000000</td>\n",
       "      <td>169500.000000</td>\n",
       "      <td>1.889515e+07</td>\n",
       "      <td>0.155512</td>\n",
       "    </tr>\n",
       "  </tbody>\n",
       "</table>\n",
       "</div>"
      ],
      "text/plain": [
       "                Open           High            Low          Close  \\\n",
       "count    3408.000000    3408.000000    3408.000000    3408.000000   \n",
       "mean    37820.136150   38423.638204   37230.989730   37797.628521   \n",
       "std     30021.560057   30496.977394   29563.912998   30001.010754   \n",
       "min     13146.000000   13186.000000   12905.000000   13146.000000   \n",
       "25%     19082.250000   19288.000000   18786.000000   19027.000000   \n",
       "50%     24697.500000   25088.500000   24275.500000   24647.500000   \n",
       "75%     48762.500000   49512.500000   48262.500000   48812.500000   \n",
       "max    172000.000000  173000.000000  161000.000000  169500.000000   \n",
       "\n",
       "             Volume       Change  \n",
       "count  3.408000e+03  3408.000000  \n",
       "mean   8.491922e+05     0.000568  \n",
       "std    1.292200e+06     0.024097  \n",
       "min    9.641000e+03    -0.103681  \n",
       "25%    1.587795e+05    -0.013567  \n",
       "50%    4.276095e+05    -0.001328  \n",
       "75%    1.096044e+06     0.012646  \n",
       "max    1.889515e+07     0.155512  "
      ]
     },
     "execution_count": 118,
     "metadata": {},
     "output_type": "execute_result"
    }
   ],
   "source": [
    "# 이상치 제거\n",
    "\n",
    "df_kakao = df_kakao[~(df_kakao==0).any(axis=1)]\n",
    "df_kakao.describe()"
   ]
  },
  {
   "cell_type": "markdown",
   "id": "05b5390a-ef3f-4c50-bbab-ab2d5ed42671",
   "metadata": {},
   "source": [
    "## 종가 기준 선 그래프"
   ]
  },
  {
   "cell_type": "code",
   "execution_count": 120,
   "id": "af2f8ed7-0827-4fd1-8cfe-fead2eed73aa",
   "metadata": {},
   "outputs": [
    {
     "data": {
      "image/png": "[encoded data removed]",
      "text/plain": [
       "<Figure size 640x480 with 1 Axes>"
      ]
     },
     "metadata": {},
     "output_type": "display_data"
    }
   ],
   "source": [
    "df_kakao['Close'].plot()\n",
    "plt.grid()\n",
    "plt.show()"
   ]
  },
  {
   "cell_type": "markdown",
   "id": "660759b0-12bf-47ab-8805-e71b8a96bd8c",
   "metadata": {},
   "source": [
    "## 캔들 그래프"
   ]
  },
  {
   "cell_type": "code",
   "execution_count": 98,
   "id": "80dd376a-b68d-4e1a-ab4d-1d365777b33d",
   "metadata": {},
   "outputs": [],
   "source": [
    "import plotly.graph_objects as go\n",
    "import plotly.subplots as ms"
   ]
  },
  {
   "cell_type": "code",
   "execution_count": 135,
   "id": "5dfae9cd-54a8-410f-8f31-e1b5a918d713",
   "metadata": {},
   "outputs": [
    {
     "data": {
      "text/html": [
       "<div>\n",
       "<style scoped>\n",
       "    .dataframe tbody tr th:only-of-type {\n",
       "        vertical-align: middle;\n",
       "    }\n",
       "\n",
       "    .dataframe tbody tr th {\n",
       "        vertical-align: top;\n",
       "    }\n",
       "\n",
       "    .dataframe thead th {\n",
       "        text-align: right;\n",
       "    }\n",
       "</style>\n",
       "<table border=\"1\" class=\"dataframe\">\n",
       "  <thead>\n",
       "    <tr style=\"text-align: right;\">\n",
       "      <th></th>\n",
       "      <th>Open</th>\n",
       "      <th>High</th>\n",
       "      <th>Low</th>\n",
       "      <th>Close</th>\n",
       "      <th>Volume</th>\n",
       "      <th>Change</th>\n",
       "    </tr>\n",
       "    <tr>\n",
       "      <th>Date</th>\n",
       "      <th></th>\n",
       "      <th></th>\n",
       "      <th></th>\n",
       "      <th></th>\n",
       "      <th></th>\n",
       "      <th></th>\n",
       "    </tr>\n",
       "  </thead>\n",
       "  <tbody>\n",
       "    <tr>\n",
       "      <th>2023-08-21</th>\n",
       "      <td>48500</td>\n",
       "      <td>49450</td>\n",
       "      <td>48250</td>\n",
       "      <td>48400</td>\n",
       "      <td>1010367</td>\n",
       "      <td>-0.001032</td>\n",
       "    </tr>\n",
       "    <tr>\n",
       "      <th>2023-08-22</th>\n",
       "      <td>48550</td>\n",
       "      <td>49400</td>\n",
       "      <td>48400</td>\n",
       "      <td>48650</td>\n",
       "      <td>1131155</td>\n",
       "      <td>0.005165</td>\n",
       "    </tr>\n",
       "    <tr>\n",
       "      <th>2023-08-23</th>\n",
       "      <td>48700</td>\n",
       "      <td>49700</td>\n",
       "      <td>48450</td>\n",
       "      <td>48900</td>\n",
       "      <td>1344907</td>\n",
       "      <td>0.005139</td>\n",
       "    </tr>\n",
       "    <tr>\n",
       "      <th>2023-08-24</th>\n",
       "      <td>49450</td>\n",
       "      <td>50100</td>\n",
       "      <td>48900</td>\n",
       "      <td>49100</td>\n",
       "      <td>1735760</td>\n",
       "      <td>0.004090</td>\n",
       "    </tr>\n",
       "    <tr>\n",
       "      <th>2023-08-25</th>\n",
       "      <td>48000</td>\n",
       "      <td>48550</td>\n",
       "      <td>47600</td>\n",
       "      <td>48100</td>\n",
       "      <td>1330506</td>\n",
       "      <td>-0.020367</td>\n",
       "    </tr>\n",
       "  </tbody>\n",
       "</table>\n",
       "</div>"
      ],
      "text/plain": [
       "             Open   High    Low  Close   Volume    Change\n",
       "Date                                                     \n",
       "2023-08-21  48500  49450  48250  48400  1010367 -0.001032\n",
       "2023-08-22  48550  49400  48400  48650  1131155  0.005165\n",
       "2023-08-23  48700  49700  48450  48900  1344907  0.005139\n",
       "2023-08-24  49450  50100  48900  49100  1735760  0.004090\n",
       "2023-08-25  48000  48550  47600  48100  1330506 -0.020367"
      ]
     },
     "execution_count": 135,
     "metadata": {},
     "output_type": "execute_result"
    }
   ],
   "source": [
    "# 최근 1년치 자료 추출\n",
    "\n",
    "df_kakao_short = df_kakao[df_kakao.index>pd.to_datetime(\"2023-08-19\")]\n",
    "df_kakao_short.head()"
   ]
  },
  {
   "cell_type": "code",
   "execution_count": 137,
   "id": "773bb252-2752-4e25-85ef-96d464e41010",
   "metadata": {},
   "outputs": [
    {
     "data": {
      "application/vnd.plotly.v1+json": {
       "config": {
        "plotlyServerURL": "https://plot.ly"
       },
       "data": [
        {
         "close": [
          48400,
          48650,
          48900,
          49100,
          48100,
          48000,
          48600,
          49000,
          48100,
          48950,
          49100,
          48900,
          49050,
          48750,
          48250,
          48400,
          47800,
          48300,
          48850,
          48600,
          47850,
          47100,
          45650,
          45050,
          44800,
          43750,
          43950,
          41600,
          40850,
          42050,
          41400,
          42650,
          43650,
          43200,
          43150,
          42800,
          41800,
          40500,
          39050,
          37950,
          39600,
          38950,
          37650,
          37750,
          38000,
          37800,
          37600,
          38550,
          41300,
          44700,
          43750,
          43950,
          45600,
          45650,
          45000,
          46350,
          48300,
          48200,
          47500,
          47800,
          49250,
          50300,
          50500,
          49850,
          51100,
          50500,
          49700,
          50800,
          50500,
          51700,
          52100,
          51800,
          50900,
          54300,
          54900,
          53900,
          53800,
          53700,
          52800,
          52400,
          53400,
          54300,
          57900,
          56600,
          57200,
          55800,
          57200,
          58700,
          59200,
          60800,
          60400,
          61100,
          59600,
          57500,
          56800,
          57600,
          56400,
          57700,
          56700,
          56000,
          56600,
          55300,
          54300,
          52500,
          52700,
          56300,
          55000,
          54000,
          53800,
          54000,
          54700,
          54900,
          59200,
          58400,
          58200,
          58700,
          58000,
          57900,
          57100,
          56800,
          55600,
          53300,
          53100,
          51700,
          51900,
          52900,
          53200,
          54600,
          55800,
          54600,
          54900,
          54100,
          53000,
          52000,
          52900,
          53600,
          53800,
          54900,
          54800,
          54400,
          53700,
          53800,
          51200,
          51000,
          49300,
          48750,
          49150,
          49250,
          48050,
          47850,
          47750,
          46750,
          46900,
          49100,
          48600,
          49000,
          47500,
          48100,
          47400,
          47300,
          48500,
          48600,
          48300,
          49200,
          49700,
          49800,
          48600,
          47800,
          47000,
          46650,
          46800,
          46450,
          46050,
          45950,
          45800,
          45450,
          44450,
          45850,
          45100,
          43750,
          43650,
          43300,
          44300,
          44600,
          44550,
          44250,
          43100,
          43150,
          43050,
          43650,
          43900,
          42400,
          42300,
          42800,
          42400,
          43150,
          42050,
          41000,
          41600,
          40400,
          40650,
          41000,
          40000,
          40100,
          40300,
          41500,
          42400,
          42450,
          42750,
          42350,
          42250,
          41900,
          40900,
          41200,
          41150,
          41350,
          41050,
          38850,
          39550,
          40550,
          39800,
          39950,
          39050,
          39200,
          39800,
          39550,
          36300,
          38000,
          38300,
          38450,
          37000,
          37100,
          36400,
          36800,
          36550,
          36650,
          36700
         ],
         "decreasing": {
          "line": {
           "color": "blue"
          }
         },
         "high": [
          49450,
          49400,
          49700,
          50100,
          48550,
          48650,
          48700,
          49400,
          49100,
          49300,
          49450,
          49350,
          49200,
          49600,
          48750,
          48750,
          48150,
          48300,
          48900,
          49200,
          48700,
          47950,
          47150,
          45650,
          45250,
          44800,
          44200,
          43100,
          42400,
          42100,
          42350,
          43200,
          44000,
          43650,
          43900,
          44050,
          42950,
          41400,
          40150,
          38900,
          39700,
          39650,
          38500,
          38050,
          38400,
          38950,
          38300,
          38600,
          41550,
          44700,
          44750,
          45000,
          46500,
          46100,
          46450,
          46950,
          48450,
          48250,
          48150,
          48150,
          49600,
          51000,
          50900,
          51000,
          51200,
          51300,
          50400,
          51300,
          51100,
          52000,
          53200,
          52700,
          52000,
          54900,
          55000,
          55000,
          54400,
          54200,
          53600,
          53400,
          53500,
          54300,
          57900,
          57600,
          57800,
          57500,
          58800,
          59200,
          60000,
          61900,
          61200,
          61800,
          61700,
          59900,
          57900,
          58800,
          58900,
          58000,
          57500,
          56700,
          57400,
          57200,
          56000,
          53900,
          53100,
          56600,
          57400,
          55000,
          55700,
          54700,
          55300,
          54900,
          61400,
          59700,
          59100,
          60000,
          58900,
          58900,
          58200,
          57700,
          57400,
          55300,
          54900,
          52900,
          52300,
          53700,
          54200,
          54800,
          56000,
          56000,
          55800,
          55000,
          54300,
          52800,
          53200,
          54200,
          54500,
          55200,
          55200,
          55700,
          54900,
          54500,
          53200,
          52000,
          51500,
          49100,
          49750,
          50100,
          48800,
          48450,
          48000,
          47400,
          48000,
          50200,
          49600,
          49700,
          48750,
          48400,
          47900,
          47900,
          48600,
          48850,
          48550,
          50300,
          50500,
          50100,
          50600,
          49050,
          47750,
          47400,
          47700,
          47100,
          46800,
          46250,
          46200,
          45950,
          45250,
          46600,
          46050,
          44950,
          44050,
          44350,
          45150,
          44950,
          44950,
          45150,
          43800,
          43850,
          43600,
          44100,
          44200,
          43750,
          43000,
          42800,
          42800,
          43150,
          42950,
          42300,
          42100,
          41300,
          41250,
          41150,
          40800,
          41000,
          40650,
          41800,
          43100,
          43150,
          42900,
          43250,
          44000,
          42900,
          42150,
          41450,
          41150,
          42100,
          41600,
          41450,
          40650,
          40700,
          40600,
          40150,
          40150,
          39400,
          40150,
          40150,
          39600,
          39000,
          38750,
          39100,
          39100,
          37700,
          37100,
          36900,
          37350,
          37400,
          37000
         ],
         "increasing": {
          "line": {
           "color": "red"
          }
         },
         "low": [
          48250,
          48400,
          48450,
          48900,
          47600,
          47800,
          48000,
          48750,
          48100,
          47950,
          48400,
          48850,
          48500,
          48600,
          48000,
          48150,
          47300,
          47450,
          48100,
          48450,
          47800,
          47050,
          45600,
          44800,
          44650,
          43400,
          43150,
          41600,
          40700,
          40600,
          41200,
          41900,
          42600,
          43050,
          42400,
          42800,
          41800,
          40450,
          38850,
          37850,
          37850,
          38850,
          37400,
          37300,
          37600,
          37450,
          37450,
          37900,
          38900,
          42300,
          42850,
          43850,
          43450,
          45000,
          44900,
          45500,
          46800,
          46850,
          47200,
          47000,
          48300,
          48250,
          50000,
          49300,
          49800,
          50100,
          49650,
          49750,
          50200,
          50700,
          51900,
          51800,
          50700,
          52300,
          54000,
          53700,
          53200,
          53000,
          52000,
          52100,
          52100,
          53300,
          54000,
          56000,
          55600,
          55500,
          55800,
          58300,
          58600,
          59400,
          59100,
          59800,
          59400,
          56600,
          55900,
          57100,
          55800,
          56600,
          56300,
          54700,
          55600,
          55200,
          53600,
          52200,
          51500,
          53700,
          54600,
          53800,
          53600,
          53700,
          54000,
          53200,
          56700,
          58300,
          58100,
          57800,
          58000,
          57700,
          56600,
          56300,
          55200,
          53000,
          52900,
          51600,
          51400,
          52000,
          53000,
          52700,
          54800,
          54100,
          54600,
          53900,
          52700,
          51700,
          52300,
          52800,
          53100,
          53900,
          53900,
          54400,
          53500,
          53600,
          51000,
          51000,
          49100,
          48200,
          48300,
          48850,
          47700,
          47650,
          46850,
          46600,
          46700,
          46900,
          47700,
          48450,
          47050,
          47850,
          47100,
          47150,
          47600,
          48300,
          48050,
          49000,
          49400,
          49350,
          48400,
          47650,
          47000,
          46650,
          46750,
          46400,
          46000,
          45350,
          45500,
          45250,
          44400,
          44550,
          45100,
          43700,
          43100,
          43000,
          43300,
          43850,
          44150,
          44150,
          42950,
          43000,
          42750,
          43150,
          43050,
          42150,
          42200,
          41800,
          42200,
          42400,
          42050,
          41000,
          40500,
          40400,
          40350,
          40250,
          39950,
          40000,
          40000,
          40100,
          41200,
          42000,
          41600,
          42100,
          41950,
          41900,
          40800,
          40550,
          40300,
          40650,
          40850,
          38700,
          38100,
          39050,
          39800,
          39500,
          38950,
          38750,
          39300,
          39250,
          35350,
          36750,
          37300,
          37500,
          36600,
          36800,
          36200,
          36300,
          36550,
          36350,
          36650
         ],
         "open": [
          48500,
          48550,
          48700,
          49450,
          48000,
          48550,
          48000,
          49150,
          49000,
          47950,
          48900,
          49100,
          49000,
          48700,
          48650,
          48200,
          48100,
          47850,
          48100,
          48550,
          48600,
          47850,
          46800,
          45100,
          44900,
          44650,
          43150,
          43050,
          41750,
          40600,
          42100,
          41900,
          42700,
          43250,
          43250,
          43400,
          42400,
          41000,
          39750,
          38200,
          38300,
          39600,
          38250,
          37650,
          37650,
          38250,
          38000,
          38000,
          39250,
          43000,
          44700,
          44350,
          43450,
          45800,
          45800,
          46150,
          47200,
          47400,
          48150,
          47250,
          48300,
          48750,
          50400,
          50800,
          50000,
          50800,
          50400,
          49800,
          50700,
          51400,
          52000,
          52500,
          51800,
          52400,
          54400,
          55000,
          53500,
          54200,
          52900,
          52100,
          52400,
          53700,
          54300,
          57100,
          55800,
          57400,
          55800,
          58500,
          58900,
          60300,
          60900,
          60500,
          60600,
          59600,
          57200,
          58100,
          58300,
          56700,
          57500,
          56300,
          55700,
          56600,
          55900,
          53700,
          51900,
          53800,
          57000,
          54500,
          54400,
          54500,
          54000,
          53900,
          56800,
          59500,
          58800,
          57900,
          58800,
          58600,
          58100,
          57200,
          56800,
          55100,
          53600,
          52600,
          51400,
          52200,
          53600,
          53200,
          55000,
          55900,
          54600,
          55000,
          54200,
          52700,
          52400,
          53900,
          53400,
          54200,
          54200,
          54800,
          54500,
          54100,
          53200,
          51200,
          51200,
          48400,
          48850,
          49100,
          48450,
          48050,
          47100,
          47200,
          46700,
          47350,
          48350,
          49450,
          48700,
          48000,
          47500,
          47850,
          47650,
          48350,
          48150,
          49000,
          49900,
          49750,
          50200,
          49000,
          47700,
          47200,
          47050,
          46600,
          46800,
          45650,
          45800,
          45800,
          45050,
          44600,
          46000,
          44650,
          43300,
          44050,
          43350,
          43900,
          44900,
          44600,
          43700,
          43350,
          43150,
          43350,
          43250,
          43500,
          42500,
          42500,
          42550,
          42450,
          42800,
          42250,
          40650,
          41100,
          40650,
          40300,
          40600,
          40100,
          40100,
          40300,
          41500,
          42350,
          42000,
          43150,
          42350,
          42550,
          41950,
          40950,
          40800,
          40900,
          41350,
          40500,
          38500,
          39350,
          40550,
          39850,
          39600,
          39250,
          39350,
          39500,
          39550,
          36750,
          37300,
          38950,
          38900,
          37100,
          36950,
          36650,
          37300,
          36650,
          36900
         ],
         "type": "candlestick",
         "x": [
          "2023-08-21T00:00:00",
          "2023-08-22T00:00:00",
          "2023-08-23T00:00:00",
          "2023-08-24T00:00:00",
          "2023-08-25T00:00:00",
          "2023-08-28T00:00:00",
          "2023-08-29T00:00:00",
          "2023-08-30T00:00:00",
          "2023-08-31T00:00:00",
          "2023-09-01T00:00:00",
          "2023-09-04T00:00:00",
          "2023-09-05T00:00:00",
          "2023-09-06T00:00:00",
          "2023-09-07T00:00:00",
          "2023-09-08T00:00:00",
          "2023-09-12T00:00:00",
          "2023-09-13T00:00:00",
          "2023-09-14T00:00:00",
          "2023-09-15T00:00:00",
          "2023-09-18T00:00:00",
          "2023-09-19T00:00:00",
          "2023-09-20T00:00:00",
          "2023-09-21T00:00:00",
          "2023-09-22T00:00:00",
          "2023-09-25T00:00:00",
          "2023-09-26T00:00:00",
          "2023-09-27T00:00:00",
          "2023-10-04T00:00:00",
          "2023-10-05T00:00:00",
          "2023-10-06T00:00:00",
          "2023-10-10T00:00:00",
          "2023-10-11T00:00:00",
          "2023-10-12T00:00:00",
          "2023-10-13T00:00:00",
          "2023-10-16T00:00:00",
          "2023-10-17T00:00:00",
          "2023-10-18T00:00:00",
          "2023-10-19T00:00:00",
          "2023-10-20T00:00:00",
          "2023-10-23T00:00:00",
          "2023-10-24T00:00:00",
          "2023-10-25T00:00:00",
          "2023-10-26T00:00:00",
          "2023-10-27T00:00:00",
          "2023-10-30T00:00:00",
          "2023-10-31T00:00:00",
          "2023-11-01T00:00:00",
          "2023-11-02T00:00:00",
          "2023-11-03T00:00:00",
          "2023-11-06T00:00:00",
          "2023-11-07T00:00:00",
          "2023-11-08T00:00:00",
          "2023-11-09T00:00:00",
          "2023-11-10T00:00:00",
          "2023-11-13T00:00:00",
          "2023-11-14T00:00:00",
          "2023-11-15T00:00:00",
          "2023-11-16T00:00:00",
          "2023-11-17T00:00:00",
          "2023-11-20T00:00:00",
          "2023-11-21T00:00:00",
          "2023-11-22T00:00:00",
          "2023-11-24T00:00:00",
          "2023-11-27T00:00:00",
          "2023-11-28T00:00:00",
          "2023-11-29T00:00:00",
          "2023-12-01T00:00:00",
          "2023-12-04T00:00:00",
          "2023-12-06T00:00:00",
          "2023-12-08T00:00:00",
          "2023-12-11T00:00:00",
          "2023-12-12T00:00:00",
          "2023-12-13T00:00:00",
          "2023-12-14T00:00:00",
          "2023-12-15T00:00:00",
          "2023-12-18T00:00:00",
          "2023-12-19T00:00:00",
          "2023-12-20T00:00:00",
          "2023-12-21T00:00:00",
          "2023-12-26T00:00:00",
          "2023-12-27T00:00:00",
          "2023-12-28T00:00:00",
          "2024-01-02T00:00:00",
          "2024-01-03T00:00:00",
          "2024-01-04T00:00:00",
          "2024-01-05T00:00:00",
          "2024-01-08T00:00:00",
          "2024-01-09T00:00:00",
          "2024-01-10T00:00:00",
          "2024-01-11T00:00:00",
          "2024-01-12T00:00:00",
          "2024-01-15T00:00:00",
          "2024-01-16T00:00:00",
          "2024-01-17T00:00:00",
          "2024-01-18T00:00:00",
          "2024-01-19T00:00:00",
          "2024-01-22T00:00:00",
          "2024-01-23T00:00:00",
          "2024-01-24T00:00:00",
          "2024-01-25T00:00:00",
          "2024-01-26T00:00:00",
          "2024-01-29T00:00:00",
          "2024-01-30T00:00:00",
          "2024-01-31T00:00:00",
          "2024-02-01T00:00:00",
          "2024-02-02T00:00:00",
          "2024-02-05T00:00:00",
          "2024-02-06T00:00:00",
          "2024-02-07T00:00:00",
          "2024-02-08T00:00:00",
          "2024-02-13T00:00:00",
          "2024-02-14T00:00:00",
          "2024-02-15T00:00:00",
          "2024-02-16T00:00:00",
          "2024-02-19T00:00:00",
          "2024-02-20T00:00:00",
          "2024-02-21T00:00:00",
          "2024-02-22T00:00:00",
          "2024-02-23T00:00:00",
          "2024-02-27T00:00:00",
          "2024-02-28T00:00:00",
          "2024-02-29T00:00:00",
          "2024-03-04T00:00:00",
          "2024-03-05T00:00:00",
          "2024-03-06T00:00:00",
          "2024-03-07T00:00:00",
          "2024-03-08T00:00:00",
          "2024-03-11T00:00:00",
          "2024-03-12T00:00:00",
          "2024-03-13T00:00:00",
          "2024-03-14T00:00:00",
          "2024-03-15T00:00:00",
          "2024-03-18T00:00:00",
          "2024-03-19T00:00:00",
          "2024-03-20T00:00:00",
          "2024-03-21T00:00:00",
          "2024-03-25T00:00:00",
          "2024-03-26T00:00:00",
          "2024-03-27T00:00:00",
          "2024-03-28T00:00:00",
          "2024-03-29T00:00:00",
          "2024-04-01T00:00:00",
          "2024-04-02T00:00:00",
          "2024-04-03T00:00:00",
          "2024-04-04T00:00:00",
          "2024-04-05T00:00:00",
          "2024-04-08T00:00:00",
          "2024-04-09T00:00:00",
          "2024-04-11T00:00:00",
          "2024-04-12T00:00:00",
          "2024-04-15T00:00:00",
          "2024-04-16T00:00:00",
          "2024-04-17T00:00:00",
          "2024-04-18T00:00:00",
          "2024-04-19T00:00:00",
          "2024-04-22T00:00:00",
          "2024-04-23T00:00:00",
          "2024-04-24T00:00:00",
          "2024-04-25T00:00:00",
          "2024-04-26T00:00:00",
          "2024-04-29T00:00:00",
          "2024-04-30T00:00:00",
          "2024-05-02T00:00:00",
          "2024-05-03T00:00:00",
          "2024-05-07T00:00:00",
          "2024-05-08T00:00:00",
          "2024-05-09T00:00:00",
          "2024-05-10T00:00:00",
          "2024-05-13T00:00:00",
          "2024-05-14T00:00:00",
          "2024-05-16T00:00:00",
          "2024-05-17T00:00:00",
          "2024-05-20T00:00:00",
          "2024-05-21T00:00:00",
          "2024-05-22T00:00:00",
          "2024-05-23T00:00:00",
          "2024-05-24T00:00:00",
          "2024-05-27T00:00:00",
          "2024-05-28T00:00:00",
          "2024-05-29T00:00:00",
          "2024-05-30T00:00:00",
          "2024-05-31T00:00:00",
          "2024-06-03T00:00:00",
          "2024-06-04T00:00:00",
          "2024-06-05T00:00:00",
          "2024-06-07T00:00:00",
          "2024-06-10T00:00:00",
          "2024-06-11T00:00:00",
          "2024-06-12T00:00:00",
          "2024-06-13T00:00:00",
          "2024-06-14T00:00:00",
          "2024-06-17T00:00:00",
          "2024-06-18T00:00:00",
          "2024-06-19T00:00:00",
          "2024-06-20T00:00:00",
          "2024-06-21T00:00:00",
          "2024-06-24T00:00:00",
          "2024-06-25T00:00:00",
          "2024-06-26T00:00:00",
          "2024-06-27T00:00:00",
          "2024-06-28T00:00:00",
          "2024-07-01T00:00:00",
          "2024-07-02T00:00:00",
          "2024-07-03T00:00:00",
          "2024-07-04T00:00:00",
          "2024-07-05T00:00:00",
          "2024-07-08T00:00:00",
          "2024-07-09T00:00:00",
          "2024-07-10T00:00:00",
          "2024-07-11T00:00:00",
          "2024-07-12T00:00:00",
          "2024-07-15T00:00:00",
          "2024-07-16T00:00:00",
          "2024-07-17T00:00:00",
          "2024-07-18T00:00:00",
          "2024-07-19T00:00:00",
          "2024-07-22T00:00:00",
          "2024-07-23T00:00:00",
          "2024-07-24T00:00:00",
          "2024-07-25T00:00:00",
          "2024-07-26T00:00:00",
          "2024-07-29T00:00:00",
          "2024-07-30T00:00:00",
          "2024-07-31T00:00:00",
          "2024-08-01T00:00:00",
          "2024-08-02T00:00:00",
          "2024-08-05T00:00:00",
          "2024-08-06T00:00:00",
          "2024-08-07T00:00:00",
          "2024-08-08T00:00:00",
          "2024-08-09T00:00:00",
          "2024-08-12T00:00:00",
          "2024-08-13T00:00:00",
          "2024-08-14T00:00:00",
          "2024-08-16T00:00:00",
          "2024-08-19T00:00:00",
          "2024-08-20T00:00:00"
         ]
        }
       ],
       "layout": {
        "autosize": false,
        "height": 600,
        "margin": {
         "b": 10,
         "l": 50,
         "pad": 1,
         "r": 50,
         "t": 10
        },
        "paper_bgcolor": "Yellow",
        "template": {
         "data": {
          "bar": [
           {
            "error_x": {
             "color": "#2a3f5f"
            },
            "error_y": {
             "color": "#2a3f5f"
            },
            "marker": {
             "line": {
              "color": "white",
              "width": 0.5
             },
             "pattern": {
              "fillmode": "overlay",
              "size": 10,
              "solidity": 0.2
             }
            },
            "type": "bar"
           }
          ],
          "barpolar": [
           {
            "marker": {
             "line": {
              "color": "white",
              "width": 0.5
             },
             "pattern": {
              "fillmode": "overlay",
              "size": 10,
              "solidity": 0.2
             }
            },
            "type": "barpolar"
           }
          ],
          "carpet": [
           {
            "aaxis": {
             "endlinecolor": "#2a3f5f",
             "gridcolor": "#C8D4E3",
             "linecolor": "#C8D4E3",
             "minorgridcolor": "#C8D4E3",
             "startlinecolor": "#2a3f5f"
            },
            "baxis": {
             "endlinecolor": "#2a3f5f",
             "gridcolor": "#C8D4E3",
             "linecolor": "#C8D4E3",
             "minorgridcolor": "#C8D4E3",
             "startlinecolor": "#2a3f5f"
            },
            "type": "carpet"
           }
          ],
          "choropleth": [
           {
            "colorbar": {
             "outlinewidth": 0,
             "ticks": ""
            },
            "type": "choropleth"
           }
          ],
          "contour": [
           {
            "colorbar": {
             "outlinewidth": 0,
             "ticks": ""
            },
            "colorscale": [
             [
              0,
              "#0d0887"
             ],
             [
              0.1111111111111111,
              "#46039f"
             ],
             [
              0.2222222222222222,
              "#7201a8"
             ],
             [
              0.3333333333333333,
              "#9c179e"
             ],
             [
              0.4444444444444444,
              "#bd3786"
             ],
             [
              0.5555555555555556,
              "#d8576b"
             ],
             [
              0.6666666666666666,
              "#ed7953"
             ],
             [
              0.7777777777777778,
              "#fb9f3a"
             ],
             [
              0.8888888888888888,
              "#fdca26"
             ],
             [
              1,
              "#f0f921"
             ]
            ],
            "type": "contour"
           }
          ],
          "contourcarpet": [
           {
            "colorbar": {
             "outlinewidth": 0,
             "ticks": ""
            },
            "type": "contourcarpet"
           }
          ],
          "heatmap": [
           {
            "colorbar": {
             "outlinewidth": 0,
             "ticks": ""
            },
            "colorscale": [
             [
              0,
              "#0d0887"
             ],
             [
              0.1111111111111111,
              "#46039f"
             ],
             [
              0.2222222222222222,
              "#7201a8"
             ],
             [
              0.3333333333333333,
              "#9c179e"
             ],
             [
              0.4444444444444444,
              "#bd3786"
             ],
             [
              0.5555555555555556,
              "#d8576b"
             ],
             [
              0.6666666666666666,
              "#ed7953"
             ],
             [
              0.7777777777777778,
              "#fb9f3a"
             ],
             [
              0.8888888888888888,
              "#fdca26"
             ],
             [
              1,
              "#f0f921"
             ]
            ],
            "type": "heatmap"
           }
          ],
          "heatmapgl": [
           {
            "colorbar": {
             "outlinewidth": 0,
             "ticks": ""
            },
            "colorscale": [
             [
              0,
              "#0d0887"
             ],
             [
              0.1111111111111111,
              "#46039f"
             ],
             [
              0.2222222222222222,
              "#7201a8"
             ],
             [
              0.3333333333333333,
              "#9c179e"
             ],
             [
              0.4444444444444444,
              "#bd3786"
             ],
             [
              0.5555555555555556,
              "#d8576b"
             ],
             [
              0.6666666666666666,
              "#ed7953"
             ],
             [
              0.7777777777777778,
              "#fb9f3a"
             ],
             [
              0.8888888888888888,
              "#fdca26"
             ],
             [
              1,
              "#f0f921"
             ]
            ],
            "type": "heatmapgl"
           }
          ],
          "histogram": [
           {
            "marker": {
             "pattern": {
              "fillmode": "overlay",
              "size": 10,
              "solidity": 0.2
             }
            },
            "type": "histogram"
           }
          ],
          "histogram2d": [
           {
            "colorbar": {
             "outlinewidth": 0,
             "ticks": ""
            },
            "colorscale": [
             [
              0,
              "#0d0887"
             ],
             [
              0.1111111111111111,
              "#46039f"
             ],
             [
              0.2222222222222222,
              "#7201a8"
             ],
             [
              0.3333333333333333,
              "#9c179e"
             ],
             [
              0.4444444444444444,
              "#bd3786"
             ],
             [
              0.5555555555555556,
              "#d8576b"
             ],
             [
              0.6666666666666666,
              "#ed7953"
             ],
             [
              0.7777777777777778,
              "#fb9f3a"
             ],
             [
              0.8888888888888888,
              "#fdca26"
             ],
             [
              1,
              "#f0f921"
             ]
            ],
            "type": "histogram2d"
           }
          ],
          "histogram2dcontour": [
           {
            "colorbar": {
             "outlinewidth": 0,
             "ticks": ""
            },
            "colorscale": [
             [
              0,
              "#0d0887"
             ],
             [
              0.1111111111111111,
              "#46039f"
             ],
             [
              0.2222222222222222,
              "#7201a8"
             ],
             [
              0.3333333333333333,
              "#9c179e"
             ],
             [
              0.4444444444444444,
              "#bd3786"
             ],
             [
              0.5555555555555556,
              "#d8576b"
             ],
             [
              0.6666666666666666,
              "#ed7953"
             ],
             [
              0.7777777777777778,
              "#fb9f3a"
             ],
             [
              0.8888888888888888,
              "#fdca26"
             ],
             [
              1,
              "#f0f921"
             ]
            ],
            "type": "histogram2dcontour"
           }
          ],
          "mesh3d": [
           {
            "colorbar": {
             "outlinewidth": 0,
             "ticks": ""
            },
            "type": "mesh3d"
           }
          ],
          "parcoords": [
           {
            "line": {
             "colorbar": {
              "outlinewidth": 0,
              "ticks": ""
             }
            },
            "type": "parcoords"
           }
          ],
          "pie": [
           {
            "automargin": true,
            "type": "pie"
           }
          ],
          "scatter": [
           {
            "fillpattern": {
             "fillmode": "overlay",
             "size": 10,
             "solidity": 0.2
            },
            "type": "scatter"
           }
          ],
          "scatter3d": [
           {
            "line": {
             "colorbar": {
              "outlinewidth": 0,
              "ticks": ""
             }
            },
            "marker": {
             "colorbar": {
              "outlinewidth": 0,
              "ticks": ""
             }
            },
            "type": "scatter3d"
           }
          ],
          "scattercarpet": [
           {
            "marker": {
             "colorbar": {
              "outlinewidth": 0,
              "ticks": ""
             }
            },
            "type": "scattercarpet"
           }
          ],
          "scattergeo": [
           {
            "marker": {
             "colorbar": {
              "outlinewidth": 0,
              "ticks": ""
             }
            },
            "type": "scattergeo"
           }
          ],
          "scattergl": [
           {
            "marker": {
             "colorbar": {
              "outlinewidth": 0,
              "ticks": ""
             }
            },
            "type": "scattergl"
           }
          ],
          "scattermapbox": [
           {
            "marker": {
             "colorbar": {
              "outlinewidth": 0,
              "ticks": ""
             }
            },
            "type": "scattermapbox"
           }
          ],
          "scatterpolar": [
           {
            "marker": {
             "colorbar": {
              "outlinewidth": 0,
              "ticks": ""
             }
            },
            "type": "scatterpolar"
           }
          ],
          "scatterpolargl": [
           {
            "marker": {
             "colorbar": {
              "outlinewidth": 0,
              "ticks": ""
             }
            },
            "type": "scatterpolargl"
           }
          ],
          "scatterternary": [
           {
            "marker": {
             "colorbar": {
              "outlinewidth": 0,
              "ticks": ""
             }
            },
            "type": "scatterternary"
           }
          ],
          "surface": [
           {
            "colorbar": {
             "outlinewidth": 0,
             "ticks": ""
            },
            "colorscale": [
             [
              0,
              "#0d0887"
             ],
             [
              0.1111111111111111,
              "#46039f"
             ],
             [
              0.2222222222222222,
              "#7201a8"
             ],
             [
              0.3333333333333333,
              "#9c179e"
             ],
             [
              0.4444444444444444,
              "#bd3786"
             ],
             [
              0.5555555555555556,
              "#d8576b"
             ],
             [
              0.6666666666666666,
              "#ed7953"
             ],
             [
              0.7777777777777778,
              "#fb9f3a"
             ],
             [
              0.8888888888888888,
              "#fdca26"
             ],
             [
              1,
              "#f0f921"
             ]
            ],
            "type": "surface"
           }
          ],
          "table": [
           {
            "cells": {
             "fill": {
              "color": "#EBF0F8"
             },
             "line": {
              "color": "white"
             }
            },
            "header": {
             "fill": {
              "color": "#C8D4E3"
             },
             "line": {
              "color": "white"
             }
            },
            "type": "table"
           }
          ]
         },
         "layout": {
          "annotationdefaults": {
           "arrowcolor": "#2a3f5f",
           "arrowhead": 0,
           "arrowwidth": 1
          },
          "autotypenumbers": "strict",
          "coloraxis": {
           "colorbar": {
            "outlinewidth": 0,
            "ticks": ""
           }
          },
          "colorscale": {
           "diverging": [
            [
             0,
             "#8e0152"
            ],
            [
             0.1,
             "#c51b7d"
            ],
            [
             0.2,
             "#de77ae"
            ],
            [
             0.3,
             "#f1b6da"
            ],
            [
             0.4,
             "#fde0ef"
            ],
            [
             0.5,
             "#f7f7f7"
            ],
            [
             0.6,
             "#e6f5d0"
            ],
            [
             0.7,
             "#b8e186"
            ],
            [
             0.8,
             "#7fbc41"
            ],
            [
             0.9,
             "#4d9221"
            ],
            [
             1,
             "#276419"
            ]
           ],
           "sequential": [
            [
             0,
             "#0d0887"
            ],
            [
             0.1111111111111111,
             "#46039f"
            ],
            [
             0.2222222222222222,
             "#7201a8"
            ],
            [
             0.3333333333333333,
             "#9c179e"
            ],
            [
             0.4444444444444444,
             "#bd3786"
            ],
            [
             0.5555555555555556,
             "#d8576b"
            ],
            [
             0.6666666666666666,
             "#ed7953"
            ],
            [
             0.7777777777777778,
             "#fb9f3a"
            ],
            [
             0.8888888888888888,
             "#fdca26"
            ],
            [
             1,
             "#f0f921"
            ]
           ],
           "sequentialminus": [
            [
             0,
             "#0d0887"
            ],
            [
             0.1111111111111111,
             "#46039f"
            ],
            [
             0.2222222222222222,
             "#7201a8"
            ],
            [
             0.3333333333333333,
             "#9c179e"
            ],
            [
             0.4444444444444444,
             "#bd3786"
            ],
            [
             0.5555555555555556,
             "#d8576b"
            ],
            [
             0.6666666666666666,
             "#ed7953"
            ],
            [
             0.7777777777777778,
             "#fb9f3a"
            ],
            [
             0.8888888888888888,
             "#fdca26"
            ],
            [
             1,
             "#f0f921"
            ]
           ]
          },
          "colorway": [
           "#636efa",
           "#EF553B",
           "#00cc96",
           "#ab63fa",
           "#FFA15A",
           "#19d3f3",
           "#FF6692",
           "#B6E880",
           "#FF97FF",
           "#FECB52"
          ],
          "font": {
           "color": "#2a3f5f"
          },
          "geo": {
           "bgcolor": "white",
           "lakecolor": "white",
           "landcolor": "white",
           "showlakes": true,
           "showland": true,
           "subunitcolor": "#C8D4E3"
          },
          "hoverlabel": {
           "align": "left"
          },
          "hovermode": "closest",
          "mapbox": {
           "style": "light"
          },
          "paper_bgcolor": "white",
          "plot_bgcolor": "white",
          "polar": {
           "angularaxis": {
            "gridcolor": "#EBF0F8",
            "linecolor": "#EBF0F8",
            "ticks": ""
           },
           "bgcolor": "white",
           "radialaxis": {
            "gridcolor": "#EBF0F8",
            "linecolor": "#EBF0F8",
            "ticks": ""
           }
          },
          "scene": {
           "xaxis": {
            "backgroundcolor": "white",
            "gridcolor": "#DFE8F3",
            "gridwidth": 2,
            "linecolor": "#EBF0F8",
            "showbackground": true,
            "ticks": "",
            "zerolinecolor": "#EBF0F8"
           },
           "yaxis": {
            "backgroundcolor": "white",
            "gridcolor": "#DFE8F3",
            "gridwidth": 2,
            "linecolor": "#EBF0F8",
            "showbackground": true,
            "ticks": "",
            "zerolinecolor": "#EBF0F8"
           },
           "zaxis": {
            "backgroundcolor": "white",
            "gridcolor": "#DFE8F3",
            "gridwidth": 2,
            "linecolor": "#EBF0F8",
            "showbackground": true,
            "ticks": "",
            "zerolinecolor": "#EBF0F8"
           }
          },
          "shapedefaults": {
           "line": {
            "color": "#2a3f5f"
           }
          },
          "ternary": {
           "aaxis": {
            "gridcolor": "#DFE8F3",
            "linecolor": "#A2B1C6",
            "ticks": ""
           },
           "baxis": {
            "gridcolor": "#DFE8F3",
            "linecolor": "#A2B1C6",
            "ticks": ""
           },
           "bgcolor": "white",
           "caxis": {
            "gridcolor": "#DFE8F3",
            "linecolor": "#A2B1C6",
            "ticks": ""
           }
          },
          "title": {
           "x": 0.05
          },
          "xaxis": {
           "automargin": true,
           "gridcolor": "#EBF0F8",
           "linecolor": "#EBF0F8",
           "ticks": "",
           "title": {
            "standoff": 15
           },
           "zerolinecolor": "#EBF0F8",
           "zerolinewidth": 2
          },
          "yaxis": {
           "automargin": true,
           "gridcolor": "#EBF0F8",
           "linecolor": "#EBF0F8",
           "ticks": "",
           "title": {
            "standoff": 15
           },
           "zerolinecolor": "#EBF0F8",
           "zerolinewidth": 2
          }
         }
        },
        "width": 1000,
        "xaxis": {
         "autorange": true,
         "range": [
          "2023-08-20 12:00",
          "2024-08-20 12:00"
         ],
         "rangeslider": {
          "visible": false,
          "yaxis": {}
         },
         "type": "date"
        },
        "yaxis": {
         "autorange": true,
         "range": [
          33875,
          63375
         ]
        }
       }
      },
      "image/png": "[encoded data removed]",
      "text/html": [
       "<div>                            <div id=\"c57deeed-5240-48be-84a9-12c32fbe42c8\" class=\"plotly-graph-div\" style=\"height:600px; width:1000px;\"></div>            <script type=\"text/javascript\">                require([\"plotly\"], function(Plotly) {                    window.PLOTLYENV=window.PLOTLYENV || {};                                    if (document.getElementById(\"c57deeed-5240-48be-84a9-12c32fbe42c8\")) {                    Plotly.newPlot(                        \"c57deeed-5240-48be-84a9-12c32fbe42c8\",                        [{\"close\":[48400,48650,48900,49100,48100,48000,48600,49000,48100,48950,49100,48900,49050,48750,48250,48400,47800,48300,48850,48600,47850,47100,45650,45050,44800,43750,43950,41600,40850,42050,41400,42650,43650,43200,43150,42800,41800,40500,39050,37950,39600,38950,37650,37750,38000,37800,37600,38550,41300,44700,43750,43950,45600,45650,45000,46350,48300,48200,47500,47800,49250,50300,50500,49850,51100,50500,49700,50800,50500,51700,52100,51800,50900,54300,54900,53900,53800,53700,52800,52400,53400,54300,57900,56600,57200,55800,57200,58700,59200,60800,60400,61100,59600,57500,56800,57600,56400,57700,56700,56000,56600,55300,54300,52500,52700,56300,55000,54000,53800,54000,54700,54900,59200,58400,58200,58700,58000,57900,57100,56800,55600,53300,53100,51700,51900,52900,53200,54600,55800,54600,54900,54100,53000,52000,52900,53600,53800,54900,54800,54400,53700,53800,51200,51000,49300,48750,49150,49250,48050,47850,47750,46750,46900,49100,48600,49000,47500,48100,47400,47300,48500,48600,48300,49200,49700,49800,48600,47800,47000,46650,46800,46450,46050,45950,45800,45450,44450,45850,45100,43750,43650,43300,44300,44600,44550,44250,43100,43150,43050,43650,43900,42400,42300,42800,42400,43150,42050,41000,41600,40400,40650,41000,40000,40100,40300,41500,42400,42450,42750,42350,42250,41900,40900,41200,41150,41350,41050,38850,39550,40550,39800,39950,39050,39200,39800,39550,36300,38000,38300,38450,37000,37100,36400,36800,36550,36650,36700],\"decreasing\":{\"line\":{\"color\":\"blue\"}},\"high\":[49450,49400,49700,50100,48550,48650,48700,49400,49100,49300,49450,49350,49200,49600,48750,48750,48150,48300,48900,49200,48700,47950,47150,45650,45250,44800,44200,43100,42400,42100,42350,43200,44000,43650,43900,44050,42950,41400,40150,38900,39700,39650,38500,38050,38400,38950,38300,38600,41550,44700,44750,45000,46500,46100,46450,46950,48450,48250,48150,48150,49600,51000,50900,51000,51200,51300,50400,51300,51100,52000,53200,52700,52000,54900,55000,55000,54400,54200,53600,53400,53500,54300,57900,57600,57800,57500,58800,59200,60000,61900,61200,61800,61700,59900,57900,58800,58900,58000,57500,56700,57400,57200,56000,53900,53100,56600,57400,55000,55700,54700,55300,54900,61400,59700,59100,60000,58900,58900,58200,57700,57400,55300,54900,52900,52300,53700,54200,54800,56000,56000,55800,55000,54300,52800,53200,54200,54500,55200,55200,55700,54900,54500,53200,52000,51500,49100,49750,50100,48800,48450,48000,47400,48000,50200,49600,49700,48750,48400,47900,47900,48600,48850,48550,50300,50500,50100,50600,49050,47750,47400,47700,47100,46800,46250,46200,45950,45250,46600,46050,44950,44050,44350,45150,44950,44950,45150,43800,43850,43600,44100,44200,43750,43000,42800,42800,43150,42950,42300,42100,41300,41250,41150,40800,41000,40650,41800,43100,43150,42900,43250,44000,42900,42150,41450,41150,42100,41600,41450,40650,40700,40600,40150,40150,39400,40150,40150,39600,39000,38750,39100,39100,37700,37100,36900,37350,37400,37000],\"increasing\":{\"line\":{\"color\":\"red\"}},\"low\":[48250,48400,48450,48900,47600,47800,48000,48750,48100,47950,48400,48850,48500,48600,48000,48150,47300,47450,48100,48450,47800,47050,45600,44800,44650,43400,43150,41600,40700,40600,41200,41900,42600,43050,42400,42800,41800,40450,38850,37850,37850,38850,37400,37300,37600,37450,37450,37900,38900,42300,42850,43850,43450,45000,44900,45500,46800,46850,47200,47000,48300,48250,50000,49300,49800,50100,49650,49750,50200,50700,51900,51800,50700,52300,54000,53700,53200,53000,52000,52100,52100,53300,54000,56000,55600,55500,55800,58300,58600,59400,59100,59800,59400,56600,55900,57100,55800,56600,56300,54700,55600,55200,53600,52200,51500,53700,54600,53800,53600,53700,54000,53200,56700,58300,58100,57800,58000,57700,56600,56300,55200,53000,52900,51600,51400,52000,53000,52700,54800,54100,54600,53900,52700,51700,52300,52800,53100,53900,53900,54400,53500,53600,51000,51000,49100,48200,48300,48850,47700,47650,46850,46600,46700,46900,47700,48450,47050,47850,47100,47150,47600,48300,48050,49000,49400,49350,48400,47650,47000,46650,46750,46400,46000,45350,45500,45250,44400,44550,45100,43700,43100,43000,43300,43850,44150,44150,42950,43000,42750,43150,43050,42150,42200,41800,42200,42400,42050,41000,40500,40400,40350,40250,39950,40000,40000,40100,41200,42000,41600,42100,41950,41900,40800,40550,40300,40650,40850,38700,38100,39050,39800,39500,38950,38750,39300,39250,35350,36750,37300,37500,36600,36800,36200,36300,36550,36350,36650],\"open\":[48500,48550,48700,49450,48000,48550,48000,49150,49000,47950,48900,49100,49000,48700,48650,48200,48100,47850,48100,48550,48600,47850,46800,45100,44900,44650,43150,43050,41750,40600,42100,41900,42700,43250,43250,43400,42400,41000,39750,38200,38300,39600,38250,37650,37650,38250,38000,38000,39250,43000,44700,44350,43450,45800,45800,46150,47200,47400,48150,47250,48300,48750,50400,50800,50000,50800,50400,49800,50700,51400,52000,52500,51800,52400,54400,55000,53500,54200,52900,52100,52400,53700,54300,57100,55800,57400,55800,58500,58900,60300,60900,60500,60600,59600,57200,58100,58300,56700,57500,56300,55700,56600,55900,53700,51900,53800,57000,54500,54400,54500,54000,53900,56800,59500,58800,57900,58800,58600,58100,57200,56800,55100,53600,52600,51400,52200,53600,53200,55000,55900,54600,55000,54200,52700,52400,53900,53400,54200,54200,54800,54500,54100,53200,51200,51200,48400,48850,49100,48450,48050,47100,47200,46700,47350,48350,49450,48700,48000,47500,47850,47650,48350,48150,49000,49900,49750,50200,49000,47700,47200,47050,46600,46800,45650,45800,45800,45050,44600,46000,44650,43300,44050,43350,43900,44900,44600,43700,43350,43150,43350,43250,43500,42500,42500,42550,42450,42800,42250,40650,41100,40650,40300,40600,40100,40100,40300,41500,42350,42000,43150,42350,42550,41950,40950,40800,40900,41350,40500,38500,39350,40550,39850,39600,39250,39350,39500,39550,36750,37300,38950,38900,37100,36950,36650,37300,36650,36900],\"x\":[\"2023-08-21T00:00:00\",\"2023-08-22T00:00:00\",\"2023-08-23T00:00:00\",\"2023-08-24T00:00:00\",\"2023-08-25T00:00:00\",\"2023-08-28T00:00:00\",\"2023-08-29T00:00:00\",\"2023-08-30T00:00:00\",\"2023-08-31T00:00:00\",\"2023-09-01T00:00:00\",\"2023-09-04T00:00:00\",\"2023-09-05T00:00:00\",\"2023-09-06T00:00:00\",\"2023-09-07T00:00:00\",\"2023-09-08T00:00:00\",\"2023-09-12T00:00:00\",\"2023-09-13T00:00:00\",\"2023-09-14T00:00:00\",\"2023-09-15T00:00:00\",\"2023-09-18T00:00:00\",\"2023-09-19T00:00:00\",\"2023-09-20T00:00:00\",\"2023-09-21T00:00:00\",\"2023-09-22T00:00:00\",\"2023-09-25T00:00:00\",\"2023-09-26T00:00:00\",\"2023-09-27T00:00:00\",\"2023-10-04T00:00:00\",\"2023-10-05T00:00:00\",\"2023-10-06T00:00:00\",\"2023-10-10T00:00:00\",\"2023-10-11T00:00:00\",\"2023-10-12T00:00:00\",\"2023-10-13T00:00:00\",\"2023-10-16T00:00:00\",\"2023-10-17T00:00:00\",\"2023-10-18T00:00:00\",\"2023-10-19T00:00:00\",\"2023-10-20T00:00:00\",\"2023-10-23T00:00:00\",\"2023-10-24T00:00:00\",\"2023-10-25T00:00:00\",\"2023-10-26T00:00:00\",\"2023-10-27T00:00:00\",\"2023-10-30T00:00:00\",\"2023-10-31T00:00:00\",\"2023-11-01T00:00:00\",\"2023-11-02T00:00:00\",\"2023-11-03T00:00:00\",\"2023-11-06T00:00:00\",\"2023-11-07T00:00:00\",\"2023-11-08T00:00:00\",\"2023-11-09T00:00:00\",\"2023-11-10T00:00:00\",\"2023-11-13T00:00:00\",\"2023-11-14T00:00:00\",\"2023-11-15T00:00:00\",\"2023-11-16T00:00:00\",\"2023-11-17T00:00:00\",\"2023-11-20T00:00:00\",\"2023-11-21T00:00:00\",\"2023-11-22T00:00:00\",\"2023-11-24T00:00:00\",\"2023-11-27T00:00:00\",\"2023-11-28T00:00:00\",\"2023-11-29T00:00:00\",\"2023-12-01T00:00:00\",\"2023-12-04T00:00:00\",\"2023-12-06T00:00:00\",\"2023-12-08T00:00:00\",\"2023-12-11T00:00:00\",\"2023-12-12T00:00:00\",\"2023-12-13T00:00:00\",\"2023-12-14T00:00:00\",\"2023-12-15T00:00:00\",\"2023-12-18T00:00:00\",\"2023-12-19T00:00:00\",\"2023-12-20T00:00:00\",\"2023-12-21T00:00:00\",\"2023-12-26T00:00:00\",\"2023-12-27T00:00:00\",\"2023-12-28T00:00:00\",\"2024-01-02T00:00:00\",\"2024-01-03T00:00:00\",\"2024-01-04T00:00:00\",\"2024-01-05T00:00:00\",\"2024-01-08T00:00:00\",\"2024-01-09T00:00:00\",\"2024-01-10T00:00:00\",\"2024-01-11T00:00:00\",\"2024-01-12T00:00:00\",\"2024-01-15T00:00:00\",\"2024-01-16T00:00:00\",\"2024-01-17T00:00:00\",\"2024-01-18T00:00:00\",\"2024-01-19T00:00:00\",\"2024-01-22T00:00:00\",\"2024-01-23T00:00:00\",\"2024-01-24T00:00:00\",\"2024-01-25T00:00:00\",\"2024-01-26T00:00:00\",\"2024-01-29T00:00:00\",\"2024-01-30T00:00:00\",\"2024-01-31T00:00:00\",\"2024-02-01T00:00:00\",\"2024-02-02T00:00:00\",\"2024-02-05T00:00:00\",\"2024-02-06T00:00:00\",\"2024-02-07T00:00:00\",\"2024-02-08T00:00:00\",\"2024-02-13T00:00:00\",\"2024-02-14T00:00:00\",\"2024-02-15T00:00:00\",\"2024-02-16T00:00:00\",\"2024-02-19T00:00:00\",\"2024-02-20T00:00:00\",\"2024-02-21T00:00:00\",\"2024-02-22T00:00:00\",\"2024-02-23T00:00:00\",\"2024-02-27T00:00:00\",\"2024-02-28T00:00:00\",\"2024-02-29T00:00:00\",\"2024-03-04T00:00:00\",\"2024-03-05T00:00:00\",\"2024-03-06T00:00:00\",\"2024-03-07T00:00:00\",\"2024-03-08T00:00:00\",\"2024-03-11T00:00:00\",\"2024-03-12T00:00:00\",\"2024-03-13T00:00:00\",\"2024-03-14T00:00:00\",\"2024-03-15T00:00:00\",\"2024-03-18T00:00:00\",\"2024-03-19T00:00:00\",\"2024-03-20T00:00:00\",\"2024-03-21T00:00:00\",\"2024-03-25T00:00:00\",\"2024-03-26T00:00:00\",\"2024-03-27T00:00:00\",\"2024-03-28T00:00:00\",\"2024-03-29T00:00:00\",\"2024-04-01T00:00:00\",\"2024-04-02T00:00:00\",\"2024-04-03T00:00:00\",\"2024-04-04T00:00:00\",\"2024-04-05T00:00:00\",\"2024-04-08T00:00:00\",\"2024-04-09T00:00:00\",\"2024-04-11T00:00:00\",\"2024-04-12T00:00:00\",\"2024-04-15T00:00:00\",\"2024-04-16T00:00:00\",\"2024-04-17T00:00:00\",\"2024-04-18T00:00:00\",\"2024-04-19T00:00:00\",\"2024-04-22T00:00:00\",\"2024-04-23T00:00:00\",\"2024-04-24T00:00:00\",\"2024-04-25T00:00:00\",\"2024-04-26T00:00:00\",\"2024-04-29T00:00:00\",\"2024-04-30T00:00:00\",\"2024-05-02T00:00:00\",\"2024-05-03T00:00:00\",\"2024-05-07T00:00:00\",\"2024-05-08T00:00:00\",\"2024-05-09T00:00:00\",\"2024-05-10T00:00:00\",\"2024-05-13T00:00:00\",\"2024-05-14T00:00:00\",\"2024-05-16T00:00:00\",\"2024-05-17T00:00:00\",\"2024-05-20T00:00:00\",\"2024-05-21T00:00:00\",\"2024-05-22T00:00:00\",\"2024-05-23T00:00:00\",\"2024-05-24T00:00:00\",\"2024-05-27T00:00:00\",\"2024-05-28T00:00:00\",\"2024-05-29T00:00:00\",\"2024-05-30T00:00:00\",\"2024-05-31T00:00:00\",\"2024-06-03T00:00:00\",\"2024-06-04T00:00:00\",\"2024-06-05T00:00:00\",\"2024-06-07T00:00:00\",\"2024-06-10T00:00:00\",\"2024-06-11T00:00:00\",\"2024-06-12T00:00:00\",\"2024-06-13T00:00:00\",\"2024-06-14T00:00:00\",\"2024-06-17T00:00:00\",\"2024-06-18T00:00:00\",\"2024-06-19T00:00:00\",\"2024-06-20T00:00:00\",\"2024-06-21T00:00:00\",\"2024-06-24T00:00:00\",\"2024-06-25T00:00:00\",\"2024-06-26T00:00:00\",\"2024-06-27T00:00:00\",\"2024-06-28T00:00:00\",\"2024-07-01T00:00:00\",\"2024-07-02T00:00:00\",\"2024-07-03T00:00:00\",\"2024-07-04T00:00:00\",\"2024-07-05T00:00:00\",\"2024-07-08T00:00:00\",\"2024-07-09T00:00:00\",\"2024-07-10T00:00:00\",\"2024-07-11T00:00:00\",\"2024-07-12T00:00:00\",\"2024-07-15T00:00:00\",\"2024-07-16T00:00:00\",\"2024-07-17T00:00:00\",\"2024-07-18T00:00:00\",\"2024-07-19T00:00:00\",\"2024-07-22T00:00:00\",\"2024-07-23T00:00:00\",\"2024-07-24T00:00:00\",\"2024-07-25T00:00:00\",\"2024-07-26T00:00:00\",\"2024-07-29T00:00:00\",\"2024-07-30T00:00:00\",\"2024-07-31T00:00:00\",\"2024-08-01T00:00:00\",\"2024-08-02T00:00:00\",\"2024-08-05T00:00:00\",\"2024-08-06T00:00:00\",\"2024-08-07T00:00:00\",\"2024-08-08T00:00:00\",\"2024-08-09T00:00:00\",\"2024-08-12T00:00:00\",\"2024-08-13T00:00:00\",\"2024-08-14T00:00:00\",\"2024-08-16T00:00:00\",\"2024-08-19T00:00:00\",\"2024-08-20T00:00:00\"],\"type\":\"candlestick\"}],                        {\"template\":{\"data\":{\"histogram2dcontour\":[{\"type\":\"histogram2dcontour\",\"colorbar\":{\"outlinewidth\":0,\"ticks\":\"\"},\"colorscale\":[[0.0,\"#0d0887\"],[0.1111111111111111,\"#46039f\"],[0.2222222222222222,\"#7201a8\"],[0.3333333333333333,\"#9c179e\"],[0.4444444444444444,\"#bd3786\"],[0.5555555555555556,\"#d8576b\"],[0.6666666666666666,\"#ed7953\"],[0.7777777777777778,\"#fb9f3a\"],[0.8888888888888888,\"#fdca26\"],[1.0,\"#f0f921\"]]}],\"choropleth\":[{\"type\":\"choropleth\",\"colorbar\":{\"outlinewidth\":0,\"ticks\":\"\"}}],\"histogram2d\":[{\"type\":\"histogram2d\",\"colorbar\":{\"outlinewidth\":0,\"ticks\":\"\"},\"colorscale\":[[0.0,\"#0d0887\"],[0.1111111111111111,\"#46039f\"],[0.2222222222222222,\"#7201a8\"],[0.3333333333333333,\"#9c179e\"],[0.4444444444444444,\"#bd3786\"],[0.5555555555555556,\"#d8576b\"],[0.6666666666666666,\"#ed7953\"],[0.7777777777777778,\"#fb9f3a\"],[0.8888888888888888,\"#fdca26\"],[1.0,\"#f0f921\"]]}],\"heatmap\":[{\"type\":\"heatmap\",\"colorbar\":{\"outlinewidth\":0,\"ticks\":\"\"},\"colorscale\":[[0.0,\"#0d0887\"],[0.1111111111111111,\"#46039f\"],[0.2222222222222222,\"#7201a8\"],[0.3333333333333333,\"#9c179e\"],[0.4444444444444444,\"#bd3786\"],[0.5555555555555556,\"#d8576b\"],[0.6666666666666666,\"#ed7953\"],[0.7777777777777778,\"#fb9f3a\"],[0.8888888888888888,\"#fdca26\"],[1.0,\"#f0f921\"]]}],\"heatmapgl\":[{\"type\":\"heatmapgl\",\"colorbar\":{\"outlinewidth\":0,\"ticks\":\"\"},\"colorscale\":[[0.0,\"#0d0887\"],[0.1111111111111111,\"#46039f\"],[0.2222222222222222,\"#7201a8\"],[0.3333333333333333,\"#9c179e\"],[0.4444444444444444,\"#bd3786\"],[0.5555555555555556,\"#d8576b\"],[0.6666666666666666,\"#ed7953\"],[0.7777777777777778,\"#fb9f3a\"],[0.8888888888888888,\"#fdca26\"],[1.0,\"#f0f921\"]]}],\"contourcarpet\":[{\"type\":\"contourcarpet\",\"colorbar\":{\"outlinewidth\":0,\"ticks\":\"\"}}],\"contour\":[{\"type\":\"contour\",\"colorbar\":{\"outlinewidth\":0,\"ticks\":\"\"},\"colorscale\":[[0.0,\"#0d0887\"],[0.1111111111111111,\"#46039f\"],[0.2222222222222222,\"#7201a8\"],[0.3333333333333333,\"#9c179e\"],[0.4444444444444444,\"#bd3786\"],[0.5555555555555556,\"#d8576b\"],[0.6666666666666666,\"#ed7953\"],[0.7777777777777778,\"#fb9f3a\"],[0.8888888888888888,\"#fdca26\"],[1.0,\"#f0f921\"]]}],\"surface\":[{\"type\":\"surface\",\"colorbar\":{\"outlinewidth\":0,\"ticks\":\"\"},\"colorscale\":[[0.0,\"#0d0887\"],[0.1111111111111111,\"#46039f\"],[0.2222222222222222,\"#7201a8\"],[0.3333333333333333,\"#9c179e\"],[0.4444444444444444,\"#bd3786\"],[0.5555555555555556,\"#d8576b\"],[0.6666666666666666,\"#ed7953\"],[0.7777777777777778,\"#fb9f3a\"],[0.8888888888888888,\"#fdca26\"],[1.0,\"#f0f921\"]]}],\"mesh3d\":[{\"type\":\"mesh3d\",\"colorbar\":{\"outlinewidth\":0,\"ticks\":\"\"}}],\"scatter\":[{\"fillpattern\":{\"fillmode\":\"overlay\",\"size\":10,\"solidity\":0.2},\"type\":\"scatter\"}],\"parcoords\":[{\"type\":\"parcoords\",\"line\":{\"colorbar\":{\"outlinewidth\":0,\"ticks\":\"\"}}}],\"scatterpolargl\":[{\"type\":\"scatterpolargl\",\"marker\":{\"colorbar\":{\"outlinewidth\":0,\"ticks\":\"\"}}}],\"bar\":[{\"error_x\":{\"color\":\"#2a3f5f\"},\"error_y\":{\"color\":\"#2a3f5f\"},\"marker\":{\"line\":{\"color\":\"white\",\"width\":0.5},\"pattern\":{\"fillmode\":\"overlay\",\"size\":10,\"solidity\":0.2}},\"type\":\"bar\"}],\"scattergeo\":[{\"type\":\"scattergeo\",\"marker\":{\"colorbar\":{\"outlinewidth\":0,\"ticks\":\"\"}}}],\"scatterpolar\":[{\"type\":\"scatterpolar\",\"marker\":{\"colorbar\":{\"outlinewidth\":0,\"ticks\":\"\"}}}],\"histogram\":[{\"marker\":{\"pattern\":{\"fillmode\":\"overlay\",\"size\":10,\"solidity\":0.2}},\"type\":\"histogram\"}],\"scattergl\":[{\"type\":\"scattergl\",\"marker\":{\"colorbar\":{\"outlinewidth\":0,\"ticks\":\"\"}}}],\"scatter3d\":[{\"type\":\"scatter3d\",\"line\":{\"colorbar\":{\"outlinewidth\":0,\"ticks\":\"\"}},\"marker\":{\"colorbar\":{\"outlinewidth\":0,\"ticks\":\"\"}}}],\"scattermapbox\":[{\"type\":\"scattermapbox\",\"marker\":{\"colorbar\":{\"outlinewidth\":0,\"ticks\":\"\"}}}],\"scatterternary\":[{\"type\":\"scatterternary\",\"marker\":{\"colorbar\":{\"outlinewidth\":0,\"ticks\":\"\"}}}],\"scattercarpet\":[{\"type\":\"scattercarpet\",\"marker\":{\"colorbar\":{\"outlinewidth\":0,\"ticks\":\"\"}}}],\"carpet\":[{\"aaxis\":{\"endlinecolor\":\"#2a3f5f\",\"gridcolor\":\"#C8D4E3\",\"linecolor\":\"#C8D4E3\",\"minorgridcolor\":\"#C8D4E3\",\"startlinecolor\":\"#2a3f5f\"},\"baxis\":{\"endlinecolor\":\"#2a3f5f\",\"gridcolor\":\"#C8D4E3\",\"linecolor\":\"#C8D4E3\",\"minorgridcolor\":\"#C8D4E3\",\"startlinecolor\":\"#2a3f5f\"},\"type\":\"carpet\"}],\"table\":[{\"cells\":{\"fill\":{\"color\":\"#EBF0F8\"},\"line\":{\"color\":\"white\"}},\"header\":{\"fill\":{\"color\":\"#C8D4E3\"},\"line\":{\"color\":\"white\"}},\"type\":\"table\"}],\"barpolar\":[{\"marker\":{\"line\":{\"color\":\"white\",\"width\":0.5},\"pattern\":{\"fillmode\":\"overlay\",\"size\":10,\"solidity\":0.2}},\"type\":\"barpolar\"}],\"pie\":[{\"automargin\":true,\"type\":\"pie\"}]},\"layout\":{\"autotypenumbers\":\"strict\",\"colorway\":[\"#636efa\",\"#EF553B\",\"#00cc96\",\"#ab63fa\",\"#FFA15A\",\"#19d3f3\",\"#FF6692\",\"#B6E880\",\"#FF97FF\",\"#FECB52\"],\"font\":{\"color\":\"#2a3f5f\"},\"hovermode\":\"closest\",\"hoverlabel\":{\"align\":\"left\"},\"paper_bgcolor\":\"white\",\"plot_bgcolor\":\"white\",\"polar\":{\"bgcolor\":\"white\",\"angularaxis\":{\"gridcolor\":\"#EBF0F8\",\"linecolor\":\"#EBF0F8\",\"ticks\":\"\"},\"radialaxis\":{\"gridcolor\":\"#EBF0F8\",\"linecolor\":\"#EBF0F8\",\"ticks\":\"\"}},\"ternary\":{\"bgcolor\":\"white\",\"aaxis\":{\"gridcolor\":\"#DFE8F3\",\"linecolor\":\"#A2B1C6\",\"ticks\":\"\"},\"baxis\":{\"gridcolor\":\"#DFE8F3\",\"linecolor\":\"#A2B1C6\",\"ticks\":\"\"},\"caxis\":{\"gridcolor\":\"#DFE8F3\",\"linecolor\":\"#A2B1C6\",\"ticks\":\"\"}},\"coloraxis\":{\"colorbar\":{\"outlinewidth\":0,\"ticks\":\"\"}},\"colorscale\":{\"sequential\":[[0.0,\"#0d0887\"],[0.1111111111111111,\"#46039f\"],[0.2222222222222222,\"#7201a8\"],[0.3333333333333333,\"#9c179e\"],[0.4444444444444444,\"#bd3786\"],[0.5555555555555556,\"#d8576b\"],[0.6666666666666666,\"#ed7953\"],[0.7777777777777778,\"#fb9f3a\"],[0.8888888888888888,\"#fdca26\"],[1.0,\"#f0f921\"]],\"sequentialminus\":[[0.0,\"#0d0887\"],[0.1111111111111111,\"#46039f\"],[0.2222222222222222,\"#7201a8\"],[0.3333333333333333,\"#9c179e\"],[0.4444444444444444,\"#bd3786\"],[0.5555555555555556,\"#d8576b\"],[0.6666666666666666,\"#ed7953\"],[0.7777777777777778,\"#fb9f3a\"],[0.8888888888888888,\"#fdca26\"],[1.0,\"#f0f921\"]],\"diverging\":[[0,\"#8e0152\"],[0.1,\"#c51b7d\"],[0.2,\"#de77ae\"],[0.3,\"#f1b6da\"],[0.4,\"#fde0ef\"],[0.5,\"#f7f7f7\"],[0.6,\"#e6f5d0\"],[0.7,\"#b8e186\"],[0.8,\"#7fbc41\"],[0.9,\"#4d9221\"],[1,\"#276419\"]]},\"xaxis\":{\"gridcolor\":\"#EBF0F8\",\"linecolor\":\"#EBF0F8\",\"ticks\":\"\",\"title\":{\"standoff\":15},\"zerolinecolor\":\"#EBF0F8\",\"automargin\":true,\"zerolinewidth\":2},\"yaxis\":{\"gridcolor\":\"#EBF0F8\",\"linecolor\":\"#EBF0F8\",\"ticks\":\"\",\"title\":{\"standoff\":15},\"zerolinecolor\":\"#EBF0F8\",\"automargin\":true,\"zerolinewidth\":2},\"scene\":{\"xaxis\":{\"backgroundcolor\":\"white\",\"gridcolor\":\"#DFE8F3\",\"linecolor\":\"#EBF0F8\",\"showbackground\":true,\"ticks\":\"\",\"zerolinecolor\":\"#EBF0F8\",\"gridwidth\":2},\"yaxis\":{\"backgroundcolor\":\"white\",\"gridcolor\":\"#DFE8F3\",\"linecolor\":\"#EBF0F8\",\"showbackground\":true,\"ticks\":\"\",\"zerolinecolor\":\"#EBF0F8\",\"gridwidth\":2},\"zaxis\":{\"backgroundcolor\":\"white\",\"gridcolor\":\"#DFE8F3\",\"linecolor\":\"#EBF0F8\",\"showbackground\":true,\"ticks\":\"\",\"zerolinecolor\":\"#EBF0F8\",\"gridwidth\":2}},\"shapedefaults\":{\"line\":{\"color\":\"#2a3f5f\"}},\"annotationdefaults\":{\"arrowcolor\":\"#2a3f5f\",\"arrowhead\":0,\"arrowwidth\":1},\"geo\":{\"bgcolor\":\"white\",\"landcolor\":\"white\",\"subunitcolor\":\"#C8D4E3\",\"showland\":true,\"showlakes\":true,\"lakecolor\":\"white\"},\"title\":{\"x\":0.05},\"mapbox\":{\"style\":\"light\"}}},\"xaxis\":{\"rangeslider\":{\"visible\":false}},\"margin\":{\"l\":50,\"r\":50,\"b\":10,\"t\":10,\"pad\":1},\"autosize\":false,\"width\":1000,\"height\":600,\"paper_bgcolor\":\"Yellow\"},                        {\"responsive\": true}                    ).then(function(){\n",
       "                            \n",
       "var gd = document.getElementById('c57deeed-5240-48be-84a9-12c32fbe42c8');\n",
       "var x = new MutationObserver(function (mutations, observer) {{\n",
       "        var display = window.getComputedStyle(gd).display;\n",
       "        if (!display || display === 'none') {{\n",
       "            console.log([gd, 'removed!']);\n",
       "            Plotly.purge(gd);\n",
       "            observer.disconnect();\n",
       "        }}\n",
       "}});\n",
       "\n",
       "// Listen for the removal of the full notebook cells\n",
       "var notebookContainer = gd.closest('#notebook-container');\n",
       "if (notebookContainer) {{\n",
       "    x.observe(notebookContainer, {childList: true});\n",
       "}}\n",
       "\n",
       "// Listen for the clearing of the current output cell\n",
       "var outputEl = gd.closest('.output');\n",
       "if (outputEl) {{\n",
       "    x.observe(outputEl, {childList: true});\n",
       "}}\n",
       "\n",
       "                        })                };                });            </script>        </div>"
      ]
     },
     "metadata": {},
     "output_type": "display_data"
    }
   ],
   "source": [
    "fig = go.Figure(data = [go.Candlestick(x=df_kakao_short.index, open=df_kakao_short['Open'], high=df_kakao_short['High'],\n",
    "                                       low=df_kakao_short['Low'], close=df_kakao_short['Close'],\n",
    "                                       increasing_line_color='red', decreasing_line_color='blue')])\n",
    "fig.update_layout(xaxis_rangeslider_visible=False)\n",
    "fig.update_layout(autosize=False, width=1000, height=600, margin=dict(l=50, r=50, b=10, t=10, pad=1), paper_bgcolor='Yellow')\n",
    "fig.show()"
   ]
  },
  {
   "cell_type": "markdown",
   "id": "36c32543-c7f4-4156-842e-f376251200cc",
   "metadata": {},
   "source": [
    "## 이동평균선"
   ]
  },
  {
   "cell_type": "markdown",
   "id": "2aa6baef-ff42-4e70-ade6-bd718b3e258a",
   "metadata": {},
   "source": [
    "Pandas 패키지의 rolling 함수\n",
    "-시계열 데이터에서 특정 크기의 window를 이동하면서 각 window 내의 데이터마다 특정 함수 적용.\n",
    "-window=5로 설정할 경우 현재 데이터 포함 과거 5개 데이터 사용"
   ]
  },
  {
   "cell_type": "code",
   "execution_count": 145,
   "id": "253eac54-efa1-4cc9-9469-d722bf47e19d",
   "metadata": {},
   "outputs": [],
   "source": [
    "# 한글 폰트\n",
    "\n",
    "from matplotlib import rcParams, font_manager, rc\n",
    "rcParams['axes.unicode_minus'] = False\n",
    "plt.rcParams['font.family'] = 'NanumBarunGothic'\n",
    "font_name = font_manager.FontProperties(fname='C:/Windows/Fonts/NanumBarunGothic.ttf').get_name()\n",
    "rc('font', family=font_name)"
   ]
  },
  {
   "cell_type": "code",
   "execution_count": 141,
   "id": "d70fb6d7-a2a8-44de-bc23-2d2cf2d90cae",
   "metadata": {},
   "outputs": [
    {
     "data": {
      "text/html": [
       "<div>\n",
       "<style scoped>\n",
       "    .dataframe tbody tr th:only-of-type {\n",
       "        vertical-align: middle;\n",
       "    }\n",
       "\n",
       "    .dataframe tbody tr th {\n",
       "        vertical-align: top;\n",
       "    }\n",
       "\n",
       "    .dataframe thead th {\n",
       "        text-align: right;\n",
       "    }\n",
       "</style>\n",
       "<table border=\"1\" class=\"dataframe\">\n",
       "  <thead>\n",
       "    <tr style=\"text-align: right;\">\n",
       "      <th></th>\n",
       "      <th>Open</th>\n",
       "      <th>High</th>\n",
       "      <th>Low</th>\n",
       "      <th>Close</th>\n",
       "      <th>Volume</th>\n",
       "      <th>Change</th>\n",
       "      <th>Moving_3</th>\n",
       "      <th>Moving_10</th>\n",
       "      <th>Moving_20</th>\n",
       "      <th>Moving_100</th>\n",
       "    </tr>\n",
       "    <tr>\n",
       "      <th>Date</th>\n",
       "      <th></th>\n",
       "      <th></th>\n",
       "      <th></th>\n",
       "      <th></th>\n",
       "      <th></th>\n",
       "      <th></th>\n",
       "      <th></th>\n",
       "      <th></th>\n",
       "      <th></th>\n",
       "      <th></th>\n",
       "    </tr>\n",
       "  </thead>\n",
       "  <tbody>\n",
       "    <tr>\n",
       "      <th>2024-08-13</th>\n",
       "      <td>36950</td>\n",
       "      <td>37100</td>\n",
       "      <td>36200</td>\n",
       "      <td>36400</td>\n",
       "      <td>1205169</td>\n",
       "      <td>-0.018868</td>\n",
       "      <td>36833.333333</td>\n",
       "      <td>38010.0</td>\n",
       "      <td>39130.0</td>\n",
       "      <td>44774.0</td>\n",
       "    </tr>\n",
       "    <tr>\n",
       "      <th>2024-08-14</th>\n",
       "      <td>36650</td>\n",
       "      <td>36900</td>\n",
       "      <td>36300</td>\n",
       "      <td>36800</td>\n",
       "      <td>1074501</td>\n",
       "      <td>0.010989</td>\n",
       "      <td>36766.666667</td>\n",
       "      <td>37770.0</td>\n",
       "      <td>38910.0</td>\n",
       "      <td>44622.0</td>\n",
       "    </tr>\n",
       "    <tr>\n",
       "      <th>2024-08-16</th>\n",
       "      <td>37300</td>\n",
       "      <td>37350</td>\n",
       "      <td>36550</td>\n",
       "      <td>36550</td>\n",
       "      <td>1170171</td>\n",
       "      <td>-0.006793</td>\n",
       "      <td>36583.333333</td>\n",
       "      <td>37445.0</td>\n",
       "      <td>38680.0</td>\n",
       "      <td>44458.5</td>\n",
       "    </tr>\n",
       "    <tr>\n",
       "      <th>2024-08-19</th>\n",
       "      <td>36650</td>\n",
       "      <td>37400</td>\n",
       "      <td>36350</td>\n",
       "      <td>36650</td>\n",
       "      <td>1211287</td>\n",
       "      <td>0.002736</td>\n",
       "      <td>36666.666667</td>\n",
       "      <td>37155.0</td>\n",
       "      <td>38445.0</td>\n",
       "      <td>44289.0</td>\n",
       "    </tr>\n",
       "    <tr>\n",
       "      <th>2024-08-20</th>\n",
       "      <td>36900</td>\n",
       "      <td>37000</td>\n",
       "      <td>36650</td>\n",
       "      <td>36700</td>\n",
       "      <td>95122</td>\n",
       "      <td>0.001364</td>\n",
       "      <td>36633.333333</td>\n",
       "      <td>37195.0</td>\n",
       "      <td>38227.5</td>\n",
       "      <td>44118.0</td>\n",
       "    </tr>\n",
       "  </tbody>\n",
       "</table>\n",
       "</div>"
      ],
      "text/plain": [
       "             Open   High    Low  Close   Volume    Change      Moving_3  \\\n",
       "Date                                                                      \n",
       "2024-08-13  36950  37100  36200  36400  1205169 -0.018868  36833.333333   \n",
       "2024-08-14  36650  36900  36300  36800  1074501  0.010989  36766.666667   \n",
       "2024-08-16  37300  37350  36550  36550  1170171 -0.006793  36583.333333   \n",
       "2024-08-19  36650  37400  36350  36650  1211287  0.002736  36666.666667   \n",
       "2024-08-20  36900  37000  36650  36700    95122  0.001364  36633.333333   \n",
       "\n",
       "            Moving_10  Moving_20  Moving_100  \n",
       "Date                                          \n",
       "2024-08-13    38010.0    39130.0     44774.0  \n",
       "2024-08-14    37770.0    38910.0     44622.0  \n",
       "2024-08-16    37445.0    38680.0     44458.5  \n",
       "2024-08-19    37155.0    38445.0     44289.0  \n",
       "2024-08-20    37195.0    38227.5     44118.0  "
      ]
     },
     "execution_count": 141,
     "metadata": {},
     "output_type": "execute_result"
    }
   ],
   "source": [
    "# 이동평균\n",
    "\n",
    "df_kakao['Moving_3'] = df_kakao['Close'].rolling(window=3).mean()\n",
    "df_kakao['Moving_10'] = df_kakao['Close'].rolling(window=10).mean()\n",
    "df_kakao['Moving_20'] = df_kakao['Close'].rolling(window=20).mean()\n",
    "df_kakao['Moving_100'] = df_kakao['Close'].rolling(window=100).mean()\n",
    "df_kakao.tail()"
   ]
  },
  {
   "cell_type": "code",
   "execution_count": 165,
   "id": "4bad8eec-add8-443c-86ca-6dd349b706f9",
   "metadata": {},
   "outputs": [
    {
     "data": {
      "image/png": "[encoded data removed]",
      "text/plain": [
       "<Figure size 1200x600 with 1 Axes>"
      ]
     },
     "metadata": {},
     "output_type": "display_data"
    }
   ],
   "source": [
    "# 이동평균선 그래프\n",
    "\n",
    "plt.figure(figsize=(12,6))\n",
    "plt.plot(df_kakao['Moving_3'], label='3일', color='red')\n",
    "plt.plot(df_kakao['Moving_10'], label='10일', color='pink')\n",
    "plt.plot(df_kakao['Moving_20'], label='20일', color='blue')\n",
    "plt.plot(df_kakao['Moving_100'], label='100일', color='black')\n",
    "\n",
    "plt.title('카카오 주가 이동평균선')\n",
    "plt.xlabel('날짜')\n",
    "plt.ylabel('이동평균')\n",
    "plt.legend()\n",
    "\n",
    "plt.show()"
   ]
  }
 ],
 "metadata": {
  "kernelspec": {
   "display_name": "Python 3 (ipykernel)",
   "language": "python",
   "name": "python3"
  },
  "language_info": {
   "codemirror_mode": {
    "name": "ipython",
    "version": 3
   },
   "file_extension": ".py",
   "mimetype": "text/x-python",
   "name": "python",
   "nbconvert_exporter": "python",
   "pygments_lexer": "ipython3",
   "version": "3.12.4"
  }
 },
 "nbformat": 4,
 "nbformat_minor": 5
}
