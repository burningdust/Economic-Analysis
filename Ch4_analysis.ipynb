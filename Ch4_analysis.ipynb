{
 "cells": [
  {
   "cell_type": "markdown",
   "id": "6cc29a75-d641-4bae-bb2c-428f339da108",
   "metadata": {},
   "source": [
    "# Ch4 분석과제 : 주식투자 시 최대 예상손실액 구하기"
   ]
  },
  {
   "cell_type": "markdown",
   "id": "749b478f-89f0-4655-b393-b6fb04f6a4db",
   "metadata": {},
   "source": [
    "## 데이터 수집"
   ]
  },
  {
   "cell_type": "code",
   "execution_count": 36,
   "id": "e45a18b0-8d47-49fb-bcb2-2615e69091ff",
   "metadata": {},
   "outputs": [],
   "source": [
    "# 패키지 로드\n",
    "\n",
    "%matplotlib inline\n",
    "import matplotlib.pyplot as plt\n",
    "\n",
    "import pandas as pd\n",
    "import FinanceDataReader as fdr\n",
    "\n",
    "import numpy as np"
   ]
  },
  {
   "cell_type": "code",
   "execution_count": 38,
   "id": "ff7c236c-1dcc-4005-ac84-0e1a37a1d3bb",
   "metadata": {},
   "outputs": [
    {
     "data": {
      "text/html": [
       "<div>\n",
       "<style scoped>\n",
       "    .dataframe tbody tr th:only-of-type {\n",
       "        vertical-align: middle;\n",
       "    }\n",
       "\n",
       "    .dataframe tbody tr th {\n",
       "        vertical-align: top;\n",
       "    }\n",
       "\n",
       "    .dataframe thead th {\n",
       "        text-align: right;\n",
       "    }\n",
       "</style>\n",
       "<table border=\"1\" class=\"dataframe\">\n",
       "  <thead>\n",
       "    <tr style=\"text-align: right;\">\n",
       "      <th></th>\n",
       "      <th>Open</th>\n",
       "      <th>High</th>\n",
       "      <th>Low</th>\n",
       "      <th>Close</th>\n",
       "      <th>Volume</th>\n",
       "      <th>Change</th>\n",
       "    </tr>\n",
       "    <tr>\n",
       "      <th>Date</th>\n",
       "      <th></th>\n",
       "      <th></th>\n",
       "      <th></th>\n",
       "      <th></th>\n",
       "      <th></th>\n",
       "      <th></th>\n",
       "    </tr>\n",
       "  </thead>\n",
       "  <tbody>\n",
       "    <tr>\n",
       "      <th>2021-01-04</th>\n",
       "      <td>158400</td>\n",
       "      <td>158895</td>\n",
       "      <td>154440</td>\n",
       "      <td>156420</td>\n",
       "      <td>152926</td>\n",
       "      <td>-0.012500</td>\n",
       "    </tr>\n",
       "    <tr>\n",
       "      <th>2021-01-05</th>\n",
       "      <td>155430</td>\n",
       "      <td>157410</td>\n",
       "      <td>153945</td>\n",
       "      <td>156915</td>\n",
       "      <td>168962</td>\n",
       "      <td>0.003165</td>\n",
       "    </tr>\n",
       "    <tr>\n",
       "      <th>2021-01-06</th>\n",
       "      <td>158400</td>\n",
       "      <td>159390</td>\n",
       "      <td>155925</td>\n",
       "      <td>156915</td>\n",
       "      <td>148194</td>\n",
       "      <td>0.000000</td>\n",
       "    </tr>\n",
       "    <tr>\n",
       "      <th>2021-01-07</th>\n",
       "      <td>156915</td>\n",
       "      <td>157905</td>\n",
       "      <td>155430</td>\n",
       "      <td>155430</td>\n",
       "      <td>139860</td>\n",
       "      <td>-0.009464</td>\n",
       "    </tr>\n",
       "    <tr>\n",
       "      <th>2021-01-08</th>\n",
       "      <td>156420</td>\n",
       "      <td>160380</td>\n",
       "      <td>153450</td>\n",
       "      <td>158895</td>\n",
       "      <td>285332</td>\n",
       "      <td>0.022293</td>\n",
       "    </tr>\n",
       "  </tbody>\n",
       "</table>\n",
       "</div>"
      ],
      "text/plain": [
       "              Open    High     Low   Close  Volume    Change\n",
       "Date                                                        \n",
       "2021-01-04  158400  158895  154440  156420  152926 -0.012500\n",
       "2021-01-05  155430  157410  153945  156915  168962  0.003165\n",
       "2021-01-06  158400  159390  155925  156915  148194  0.000000\n",
       "2021-01-07  156915  157905  155430  155430  139860 -0.009464\n",
       "2021-01-08  156420  160380  153450  158895  285332  0.022293"
      ]
     },
     "execution_count": 38,
     "metadata": {},
     "output_type": "execute_result"
    }
   ],
   "source": [
    "# 하이브 주가 불러오기\n",
    "\n",
    "hybe_df = fdr.DataReader('352820', '2021-01-01')\n",
    "hybe_df.head(5)"
   ]
  },
  {
   "cell_type": "markdown",
   "id": "5539ffd7-8786-4952-ad57-d821a3e9eaf4",
   "metadata": {},
   "source": [
    "## 일별 로그수익률 히스토그램"
   ]
  },
  {
   "cell_type": "code",
   "execution_count": 40,
   "id": "c8b9c8fc-633b-4666-be69-afe129806665",
   "metadata": {},
   "outputs": [
    {
     "data": {
      "text/plain": [
       "count    921.000000\n",
       "mean       0.056999\n",
       "std        3.108258\n",
       "min      -24.870466\n",
       "25%       -1.661130\n",
       "50%        0.000000\n",
       "75%        1.712329\n",
       "max       11.462451\n",
       "Name: Close, dtype: float64"
      ]
     },
     "execution_count": 40,
     "metadata": {},
     "output_type": "execute_result"
    }
   ],
   "source": [
    "# 하이브 일별 로그수익률\n",
    "\n",
    "r = (hybe_df['Close'].pct_change()) * 100\n",
    "r.describe()"
   ]
  },
  {
   "cell_type": "code",
   "execution_count": 42,
   "id": "4b255aac-031b-4707-8ebb-070b526b571c",
   "metadata": {},
   "outputs": [
    {
     "data": {
      "image/png": "[encoded data removed]",
      "text/plain": [
       "<Figure size 1500x600 with 1 Axes>"
      ]
     },
     "metadata": {},
     "output_type": "display_data"
    }
   ],
   "source": [
    "# 하이브 일별 로그수익률 히스토그램\n",
    "\n",
    "fig, ax = plt.subplots(figsize = (15, 6))\n",
    "ax.hist(r, bins = 200)\n",
    "ax.grid(True)\n",
    "ax.set_xlim((-10, 10))\n",
    "plt.show()"
   ]
  },
  {
   "cell_type": "markdown",
   "id": "ef48490e-0341-474f-accd-049bd4d40ab0",
   "metadata": {},
   "source": [
    "## 최근 1년 거래내역 중 주가가 오른 비율"
   ]
  },
  {
   "cell_type": "code",
   "execution_count": 58,
   "id": "82e23f66-3091-4304-9adb-4a45ed327b72",
   "metadata": {},
   "outputs": [],
   "source": [
    "# 최근 1년 거래내역 추출\n",
    "\n",
    "hybe_year = hybe_df.loc['2023-10-01':'2024-09-30']\n",
    "df1 = hybe_year.copy()\n",
    "df1['ret'] = (hybe_year['Close'].pct_change()) * 100 # 일별 수익률 계산\n",
    "df2 = df1['ret']\n",
    "r_year = df2.dropna()"
   ]
  },
  {
   "cell_type": "code",
   "execution_count": 66,
   "id": "7d89d2a7-a04a-4fdf-bdd0-8bd5862002ac",
   "metadata": {},
   "outputs": [
    {
     "name": "stderr",
     "output_type": "stream",
     "text": [
      "C:\\Users\\narin\\AppData\\Local\\Temp\\ipykernel_14284\\1102254238.py:7: FutureWarning: Series.__getitem__ treating keys as positions is deprecated. In a future version, integer keys will always be treated as labels (consistent with DataFrame behavior). To access a value by position, use `ser.iloc[pos]`\n",
      "  if r_year[i] > 0:\n"
     ]
    },
    {
     "data": {
      "text/plain": [
       "0.4628099173553719"
      ]
     },
     "execution_count": 66,
     "metadata": {},
     "output_type": "execute_result"
    }
   ],
   "source": [
    "# 1년 중 주가가 상승한 비율\n",
    "\n",
    "positive = 0\n",
    "n = len(r_year) # 1년 중 거래 일수\n",
    "\n",
    "for i in range(n):\n",
    "    if r_year[i] > 0:\n",
    "        positive += 1\n",
    "        \n",
    "p_rate = positive / n\n",
    "p_rate"
   ]
  },
  {
   "cell_type": "markdown",
   "id": "128dedea-868b-40ae-a546-40ec4d0bda87",
   "metadata": {},
   "source": [
    "최근 1년 하이브 거래내역 중 주가가 오른 비율은 약 46.28%이다."
   ]
  },
  {
   "cell_type": "markdown",
   "id": "c52ae440-076b-41a1-b72f-377938a5edc2",
   "metadata": {},
   "source": [
    "## 해당 주식이 10일 중 7일 오를 확률\n",
    "X ~ B(10, p_rate)  \n",
    "X(P = 7) = (10! / 7!3!) * (p_rate\\*\\*7) * ((1-p_rate)**3)"
   ]
  },
  {
   "cell_type": "code",
   "execution_count": 70,
   "id": "efc81fb7-59cd-46f4-b568-9445665b4d35",
   "metadata": {},
   "outputs": [
    {
     "data": {
      "text/plain": [
       "0.08460261790438882"
      ]
     },
     "execution_count": 70,
     "metadata": {},
     "output_type": "execute_result"
    }
   ],
   "source": [
    "import math\n",
    "\n",
    "a = math.factorial(10)\n",
    "b = math.factorial(7) * math.factorial(3)\n",
    "c = (p_rate**7) * ((1-p_rate)**3)\n",
    "prob = (a/b) * c\n",
    "prob"
   ]
  },
  {
   "cell_type": "markdown",
   "id": "ee3b2821-9dcd-4d5c-b8c3-e3e8b1bf2d61",
   "metadata": {},
   "source": [
    "하이브 주식이 10일 중 7일 오를 확률은 약 8.46%이다."
   ]
  },
  {
   "cell_type": "markdown",
   "id": "f2f678c3-fb11-4460-9e60-2719d16af97b",
   "metadata": {},
   "source": [
    "## 해당 주식이 1년 중 며칠 오르는지와 그 변동성"
   ]
  },
  {
   "cell_type": "code",
   "execution_count": 77,
   "id": "db123d57-6fd8-4fa4-818a-8a7fe6fe4470",
   "metadata": {},
   "outputs": [
    {
     "data": {
      "text/plain": [
       "112"
      ]
     },
     "execution_count": 77,
     "metadata": {},
     "output_type": "execute_result"
    }
   ],
   "source": [
    "# 최근 1년 중 주가가 상승한 일수\n",
    "positive"
   ]
  },
  {
   "cell_type": "code",
   "execution_count": 82,
   "id": "73a41348-453c-4fcf-bab6-dc3ad82bdace",
   "metadata": {},
   "outputs": [
    {
     "data": {
      "text/plain": [
       "242"
      ]
     },
     "execution_count": 82,
     "metadata": {},
     "output_type": "execute_result"
    }
   ],
   "source": [
    "# 최근 1년 거래 일수\n",
    "n"
   ]
  },
  {
   "cell_type": "code",
   "execution_count": 79,
   "id": "f5eb5431-1fea-46ec-bd2e-2d8c1edec4a0",
   "metadata": {},
   "outputs": [
    {
     "data": {
      "text/plain": [
       "7.756628730073288"
      ]
     },
     "execution_count": 79,
     "metadata": {},
     "output_type": "execute_result"
    }
   ],
   "source": [
    "# 확률오차\n",
    "se = np.sqrt(n * p_rate * (1-p_rate))\n",
    "se"
   ]
  },
  {
   "cell_type": "markdown",
   "id": "5a5a8ecc-6c60-4428-a357-a55ebb190229",
   "metadata": {},
   "source": [
    "하이브 주식은 1년 거래일 242일 중 112일을 주변으로 약 8일 전후로 오른다."
   ]
  },
  {
   "cell_type": "markdown",
   "id": "7304172c-c6ed-4f28-9a4b-8e9879e4a834",
   "metadata": {},
   "source": [
    "## 해당 주식이 1년 중 몇 % 오르는지와 그 변동성"
   ]
  },
  {
   "cell_type": "code",
   "execution_count": 89,
   "id": "b3bd77c9-1325-4b57-b260-30da1e0ddcf5",
   "metadata": {},
   "outputs": [
    {
     "data": {
      "text/plain": [
       "46.28099173553719"
      ]
     },
     "execution_count": 89,
     "metadata": {},
     "output_type": "execute_result"
    }
   ],
   "source": [
    "# 최근 1년 중 주가가 상승한 비율\n",
    "p_rate * 100"
   ]
  },
  {
   "cell_type": "code",
   "execution_count": 93,
   "id": "5f3bc94b-e8fb-4b01-a721-d513c8068cf2",
   "metadata": {},
   "outputs": [
    {
     "data": {
      "text/plain": [
       "3.2052184835013584"
      ]
     },
     "execution_count": 93,
     "metadata": {},
     "output_type": "execute_result"
    }
   ],
   "source": [
    "# 확률오차\n",
    "se2 = np.sqrt(p_rate * (1-p_rate)) / np.sqrt(n)\n",
    "se2 * 100"
   ]
  },
  {
   "cell_type": "markdown",
   "id": "4696818a-9b8c-4404-9ce3-3ffa54c196a9",
   "metadata": {},
   "source": [
    "하이브 주식은 1년 중 46.28%를 주변으로 약 3.2% 전후로 오른다."
   ]
  },
  {
   "cell_type": "markdown",
   "id": "8380a495-9263-4d60-b58a-5601f296802e",
   "metadata": {},
   "source": [
    "## 해당 주식을 125일 동안 투자할 경우 예상 수익률 분포"
   ]
  },
  {
   "cell_type": "code",
   "execution_count": 121,
   "id": "3620d57f-a4eb-4e86-bd4e-7261b4411434",
   "metadata": {},
   "outputs": [],
   "source": [
    "# 로그수익률\n",
    "\n",
    "hybe_df['ret'] = (np.log(hybe_df.Close) - np.log(hybe_df.Close.shift(1)))\n",
    "df1 = hybe_df.dropna()\n",
    "hybe_ret = df1['ret']"
   ]
  },
  {
   "cell_type": "code",
   "execution_count": 123,
   "id": "b0cf3482-5ad8-43e2-afdf-b34059258eca",
   "metadata": {},
   "outputs": [
    {
     "data": {
      "text/plain": [
       "1000"
      ]
     },
     "execution_count": 123,
     "metadata": {},
     "output_type": "execute_result"
    }
   ],
   "source": [
    "# 부트스트랩\n",
    "\n",
    "sum_boots = []\n",
    "\n",
    "days = 125 # 거래일 수\n",
    "n = 1000 # 반복시행 수\n",
    "\n",
    "for i in range(n):\n",
    "    sample = np.random.choice(hybe_ret, size = days, replace = True)\n",
    "    sample_sum = sample.sum()\n",
    "    sum_boots.append(sample_sum)\n",
    "len(sum_boots)"
   ]
  },
  {
   "cell_type": "code",
   "execution_count": 125,
   "id": "a36bc808-f944-4560-a1e5-522d4682c231",
   "metadata": {},
   "outputs": [
    {
     "data": {
      "image/png": "[encoded data removed]",
      "text/plain": [
       "<Figure size 800x500 with 1 Axes>"
      ]
     },
     "metadata": {},
     "output_type": "display_data"
    }
   ],
   "source": [
    "# 로그수익률 히스토그램\n",
    "\n",
    "fig, ax = plt.subplots(figsize = (8, 5))\n",
    "ax.hist(sum_boots, bins = 100)\n",
    "ax.grid(True)\n",
    "ax.set_xlim((-2, 2))\n",
    "plt.show()"
   ]
  },
  {
   "cell_type": "markdown",
   "id": "6cdd10ad-e0e9-4dc5-97f8-22c98e3c5ba7",
   "metadata": {},
   "source": [
    "## 2억으로 해당 주식을 125일 거래할 경우 95% VaR로 계산한 최대 손실액"
   ]
  },
  {
   "cell_type": "code",
   "execution_count": 129,
   "id": "8a5b4d2e-e128-4921-83cc-4c86995a50b2",
   "metadata": {},
   "outputs": [
    {
     "data": {
      "text/plain": [
       "-0.43578962869789406"
      ]
     },
     "execution_count": 129,
     "metadata": {},
     "output_type": "execute_result"
    }
   ],
   "source": [
    "ret = np.array(sum_boots)\n",
    "ret5 = np.percentile(ret, 5) # 하위 5% 로그수익률\n",
    "hybe_ret5 = np.exp(ret5) - 1 # 일반수익률로 변환\n",
    "hybe_ret5"
   ]
  },
  {
   "cell_type": "code",
   "execution_count": 131,
   "id": "9adc2437-620c-4c5f-97cb-5353bd5f8ca8",
   "metadata": {},
   "outputs": [
    {
     "data": {
      "text/plain": [
       "-87157925.73957881"
      ]
     },
     "execution_count": 131,
     "metadata": {},
     "output_type": "execute_result"
    }
   ],
   "source": [
    "VaR95 = hybe_ret5 * 200000000\n",
    "VaR95"
   ]
  },
  {
   "cell_type": "markdown",
   "id": "5a6ace35-1150-4097-85a5-8a9ab943ba76",
   "metadata": {},
   "source": [
    "2억으로 하이브 주식을 125일 거래할 경우 95% VaR로 계산한 최대 손실액은 약 8700만원이다."
   ]
  }
 ],
 "metadata": {
  "kernelspec": {
   "display_name": "Python 3 (ipykernel)",
   "language": "python",
   "name": "python3"
  },
  "language_info": {
   "codemirror_mode": {
    "name": "ipython",
    "version": 3
   },
   "file_extension": ".py",
   "mimetype": "text/x-python",
   "name": "python",
   "nbconvert_exporter": "python",
   "pygments_lexer": "ipython3",
   "version": "3.12.4"
  }
 },
 "nbformat": 4,
 "nbformat_minor": 5
}
